{
 "cells": [
  {
   "cell_type": "markdown",
   "id": "2aab35d2-4a83-4f70-93cc-5ac4f801835c",
   "metadata": {},
   "source": [
    "# Python Basics"
   ]
  },
  {
   "cell_type": "markdown",
   "id": "efcceedf-6a4b-4a36-ae8d-e04c69fdc761",
   "metadata": {},
   "source": [
    "**What is Python?**\n",
    "\n",
    "Python is a versatile, high-level programming language that is easy to learn and use. It is widely used in various domains such as web development, data science, machine learning, and more....\n",
    "\n",
    "**Why Use Python?**\n",
    "- Simple and readable syntax.\n",
    "- Huge standard library.\n",
    "- Cross-platform compatibility.\n",
    "\n"
   ]
  },
  {
   "cell_type": "markdown",
   "id": "761959dd-77ef-42a9-a4b0-be05aa8cc883",
   "metadata": {},
   "source": [
    "## Section 1: Variables and Data Types\n"
   ]
  },
  {
   "cell_type": "markdown",
   "id": "1762612c-8971-44ec-9f51-4d1e4e6debb3",
   "metadata": {
    "jp-MarkdownHeadingCollapsed": true
   },
   "source": [
    "\n",
    "### Variables\n",
    "In Python, variables are used to store data values, and the type of each variable is automatically determined based on the value assigned to it\n",
    "- **Example: Variables & its Types**\n",
    "\n",
    "```python\n",
    "# int: Integer type, stores whole numbers.\n",
    "int: 10\n",
    "\n",
    "# float: Floating-point type, stores numbers with decimal points.\n",
    "float: 3.14\n",
    "\n",
    "# complex: Complex number type, stores numbers with both real and imaginary parts.\n",
    "complex: (1+2j)\n",
    "\n",
    "# str: String type, stores sequences of characters (text).\n",
    "str: Hello, World!\n",
    "\n",
    "# list: List type, an ordered and mutable collection of elements.\n",
    "list: [1, 2, 3, 'apple']\n",
    "\n",
    "# tuple: Tuple type, an ordered but immutable collection of elements.\n",
    "tuple: (1, 2, 3, 'banana')\n",
    "\n",
    "# dict: Dictionary type, stores key-value pairs.\n",
    "dict: {'key1': 'value1', 'key2': 42}\n",
    "\n",
    "# set: Set type, stores unordered collections of unique elements.\n",
    "set: {1, 2, 3, 4}\n",
    "\n",
    "# frozenset: Frozenset type, an immutable version of a set.\n",
    "frozenset: frozenset({1, 2, 3, 4})\n",
    "\n",
    "# bool: Boolean type, stores either True or False.\n",
    "bool: True\n",
    "\n",
    "# bytes: Bytes type, stores immutable sequences of bytes.\n",
    "bytes: b'Hello'\n",
    "\n",
    "# NoneType: Represents the absence of a value or a null value.\n",
    "NoneType: None\n",
    "\n",
    "```"
   ]
  },
  {
   "cell_type": "markdown",
   "id": "d98eb3e0-4721-4705-8c09-03b819f2b124",
   "metadata": {},
   "source": [
    "### Task 1 : Numeric & floats \n",
    "    - Create 2 variable a & b , then assign them numeric values eqaul to 77 and 3 "
   ]
  },
  {
   "cell_type": "code",
   "execution_count": null,
   "id": "459bd2f7-1e8e-4aaa-8031-32328ba816c0",
   "metadata": {},
   "outputs": [],
   "source": [
    "a = 77\n",
    "b = 3"
   ]
  },
  {
   "cell_type": "markdown",
   "id": "6051912d-4056-47a2-b6e7-1f04ccbb3eb0",
   "metadata": {},
   "source": [
    "    - print them , Then make 4 new variables :\n",
    "        - sum_ab           # sum        => + \n",
    "        - diff_ab          # Difference => - \n",
    "        - prod_ab          # Product    => * \n",
    "        - quot_ab          # Qutient    => /"
   ]
  },
  {
   "cell_type": "code",
   "execution_count": null,
   "id": "71d2e89b-c4ec-4a9a-acfd-678c3077e50c",
   "metadata": {},
   "outputs": [],
   "source": [
    "# print the value assined to the variable \"a\"\n",
    "print(a) \n",
    "print (\"The type of the value \",a,\" is :\", type(a))"
   ]
  },
  {
   "cell_type": "code",
   "execution_count": null,
   "id": "29674ea0-4df1-4e20-8981-d0316e048dd6",
   "metadata": {},
   "outputs": [],
   "source": [
    "# print the value assined to the variable \"b\"\n",
    "print(b) \n",
    "print (\"The type of the value \",b,\" is :\", type(b))\n"
   ]
  },
  {
   "cell_type": "code",
   "execution_count": null,
   "id": "fe2dcae5-abe6-4443-b589-0858ab994c2b",
   "metadata": {},
   "outputs": [],
   "source": [
    "sum_ab = a + b\n",
    "print(sum_ab)\n",
    "diff_ab = a - b\n",
    "print(diff_ab)\n",
    "prod_ab = a * b\n",
    "print(prod_ab)\n",
    "quot_ab = a / b\n",
    "print(quot_ab)"
   ]
  },
  {
   "cell_type": "code",
   "execution_count": null,
   "id": "cc67b182-ec40-41c7-a762-498404184f54",
   "metadata": {},
   "outputs": [],
   "source": [
    "#check the type of the value quot_ab : \n",
    "print(type(quot_ab))"
   ]
  },
  {
   "cell_type": "markdown",
   "id": "6fd894eb-1480-458d-9ab6-ddff7584610e",
   "metadata": {},
   "source": [
    "---"
   ]
  },
  {
   "cell_type": "markdown",
   "id": "84bf788a-12f3-4ef3-8708-69fa7da92d77",
   "metadata": {},
   "source": [
    "## Section 2 :String Manipulation\n",
    "Strings are sequences of characters enclosed in either single (') or double (\") quotes in Python. String manipulation refers to the various operations you can perform on strings, such as concatenation, slicing, modification, and more. Python provides a variety of built-in methods that allow you to work with strings efficiently."
   ]
  },
  {
   "cell_type": "code",
   "execution_count": null,
   "id": "d2adf98f-798d-4f6c-b2de-7f32c916cb6d",
   "metadata": {},
   "outputs": [],
   "source": [
    "str1 = \"Hello\"\n",
    "str2 = \"Learner\"\n",
    "\n",
    "print(type(str1))\n",
    "print(type(str2))"
   ]
  },
  {
   "cell_type": "markdown",
   "id": "4f0f95c6-275d-49eb-96b0-06e2302a14d0",
   "metadata": {},
   "source": [
    "#### Concatination"
   ]
  },
  {
   "cell_type": "code",
   "execution_count": null,
   "id": "3660893e-ec52-4de0-b163-c1d15714f6b6",
   "metadata": {},
   "outputs": [],
   "source": [
    "without_space = str1+str2\n",
    "print(without_space)"
   ]
  },
  {
   "cell_type": "markdown",
   "id": "29b79c9b-bf7c-4b4e-99cd-316810f87459",
   "metadata": {},
   "source": [
    "Add a space between the 2 strings "
   ]
  },
  {
   "cell_type": "code",
   "execution_count": null,
   "id": "5bc02eaa-69c8-4a3d-b8f0-844ff39dd610",
   "metadata": {},
   "outputs": [],
   "source": [
    "with_space = str1+\" \"+str2\n",
    "print(with_space)"
   ]
  },
  {
   "cell_type": "markdown",
   "id": "6473a897-6470-41b8-bca3-2faabea06325",
   "metadata": {},
   "source": [
    "#### Length\n",
    "Getting the number of characters in a string using len()"
   ]
  },
  {
   "cell_type": "code",
   "execution_count": null,
   "id": "25623ada-de8d-4d22-9bfd-829f885b0623",
   "metadata": {},
   "outputs": [],
   "source": [
    "print(\"Length of Hello = \",len(str1))\n",
    "print(\"Length of Learner = \",len(str2))\n",
    "print(\"Length of 'Hello Learner' = \",len(with_space)) \n"
   ]
  },
  {
   "cell_type": "markdown",
   "id": "60524637-4cc3-4d87-820c-fdc88fc793cb",
   "metadata": {},
   "source": [
    "#### Upper & Lowercase\n"
   ]
  },
  {
   "cell_type": "code",
   "execution_count": null,
   "id": "01bf5ff2-e290-4002-ae29-773e35cb1028",
   "metadata": {},
   "outputs": [],
   "source": [
    "\n",
    "print(str1.lower())  # Expected output: hello\n",
    "print(str2.upper())  # Expected output: LEARNER"
   ]
  },
  {
   "cell_type": "markdown",
   "id": "7767c801-6a96-4ecd-8051-069092424d84",
   "metadata": {},
   "source": [
    "#### Check for substring"
   ]
  },
  {
   "cell_type": "code",
   "execution_count": null,
   "id": "18a2ce1b-b83c-4ead-abd2-7dbe627de370",
   "metadata": {},
   "outputs": [],
   "source": [
    "text = \"consistency if a picotal key in Learning \"\n",
    "# Check if lazy exist in text ?? \n",
    "print(\"Lazy\" in text)  \n",
    "# Check if Cons exist in text ?? \n",
    "print(\"Cons\" in text)  \n",
    "# Check if consistency exist in text ?? \n",
    "print(\"consistency\" in text)  "
   ]
  },
  {
   "cell_type": "markdown",
   "id": "f9a278d2-0bc9-4473-a662-b7155adb44d8",
   "metadata": {},
   "source": [
    "#### Replace Substring "
   ]
  },
  {
   "cell_type": "code",
   "execution_count": null,
   "id": "61a07d1d-7d7e-4247-a735-931d7c69d7c5",
   "metadata": {},
   "outputs": [],
   "source": [
    "text = \"I love coding with R .\"\n",
    "new_text = text.replace(\"R\", \"Python\")\n",
    "print(new_text) "
   ]
  },
  {
   "cell_type": "markdown",
   "id": "d1ba232c-af11-485c-83be-ba2b96b16af6",
   "metadata": {},
   "source": [
    "#### Remove Whitspaces "
   ]
  },
  {
   "cell_type": "code",
   "execution_count": null,
   "id": "5eaa369a-1015-4b09-8b2b-54104b7c25b5",
   "metadata": {},
   "outputs": [],
   "source": [
    "sentence = \"   Python is awesome !\"\n",
    "print(sentence)\n",
    "clean_sentence = sentence.strip()\n",
    "print(clean_sentence)"
   ]
  },
  {
   "cell_type": "markdown",
   "id": "bbd9f849-0e76-4092-ae01-4545bb8a63eb",
   "metadata": {},
   "source": [
    "#### Split String\n",
    "Given the string \"apple,banana,cherry\", split it into a list of fruits."
   ]
  },
  {
   "cell_type": "code",
   "execution_count": null,
   "id": "ff1ba641-6d83-4328-8355-75fe048c1650",
   "metadata": {},
   "outputs": [],
   "source": [
    "fruits = \"apple,banana,cherry\"\n",
    "print(fruits) "
   ]
  },
  {
   "cell_type": "code",
   "execution_count": null,
   "id": "dee640f9-99ab-4db6-b618-4d0d9faac01a",
   "metadata": {},
   "outputs": [],
   "source": [
    "splitted_fruits = fruits.split(\",\")\n",
    "print(splitted_fruits)  # Expected output: ['apple', 'banana', 'cherry']"
   ]
  },
  {
   "cell_type": "markdown",
   "id": "bd0c122e-1b1e-4f19-9dc7-b8f0b17f48b0",
   "metadata": {},
   "source": [
    "#### Join Strings"
   ]
  },
  {
   "cell_type": "code",
   "execution_count": null,
   "id": "f15ba54e-db21-4151-8fb9-88edcd5a8515",
   "metadata": {},
   "outputs": [],
   "source": [
    "words = ['I', 'Love', 'snakes']\n",
    "sentence = \" \".join(words)\n",
    "print(sentence)  "
   ]
  },
  {
   "cell_type": "markdown",
   "id": "cfdb93d8-d085-43fb-bc20-55b0607cabb7",
   "metadata": {},
   "source": [
    "#### Count Occurrences"
   ]
  },
  {
   "cell_type": "code",
   "execution_count": null,
   "id": "4d4f5292-b829-4841-997d-4cd1744fcd2d",
   "metadata": {},
   "outputs": [],
   "source": [
    "seq = \"ATCGGGCATACG\"\n",
    "count = seq.count(\"G\")\n",
    "print(count)  "
   ]
  },
  {
   "cell_type": "markdown",
   "id": "d630e92a-a976-4867-8ec2-852888d73895",
   "metadata": {},
   "source": [
    "#### String Slicing\n",
    "Slicing allows you to extract a portion of a string by specifying the start and end indices. You can also specify a step, which allows you to skip characters.\n",
    "```\n",
    "string[start:end:step]\n",
    "```\n"
   ]
  },
  {
   "cell_type": "markdown",
   "id": "8a34d90d-78f2-4895-ae58-1fba0de7fd77",
   "metadata": {},
   "source": [
    "- **Basic Slicing**"
   ]
  },
  {
   "cell_type": "code",
   "execution_count": null,
   "id": "8c7d95e0-a376-4994-b0c5-6cf1a0caa7c5",
   "metadata": {},
   "outputs": [],
   "source": [
    "text = \"Python Programming\"\n",
    "\n",
    "# Slicing from index 0 to 5 (exclusive)\n",
    "result = text[0:5]\n",
    "print(result)   # This slices the string from index 0 to 4 (because the end index is exclusive).\n",
    "\n"
   ]
  },
  {
   "cell_type": "markdown",
   "id": "be564824-d36e-4758-adc4-5253ed743724",
   "metadata": {},
   "source": [
    "This slices the string from index 0 to 4 (because the end index is exclusive)."
   ]
  },
  {
   "cell_type": "markdown",
   "id": "0b5f5660-adc8-4ffe-bff6-57203b52f7b5",
   "metadata": {},
   "source": [
    "- **Slicing with Step**"
   ]
  },
  {
   "cell_type": "code",
   "execution_count": null,
   "id": "bc38a5c7-b771-4d74-ba8c-d591007f8e33",
   "metadata": {},
   "outputs": [],
   "source": [
    "text = \"Python Programming\"\n",
    "\n",
    "# Slicing from index 0 to 12 with a step of 2\n",
    "result = text[0:12:2]\n",
    "print(result)  # Output: Pto rg\n"
   ]
  },
  {
   "cell_type": "markdown",
   "id": "c782112c-80db-4645-8f69-e223f90cb5a3",
   "metadata": {},
   "source": [
    "This extracts every second character starting from index 0 up to index 11. The characters selected are \"P\", \"t\", \"o\", \" \", \"r\", \"g\"."
   ]
  },
  {
   "cell_type": "markdown",
   "id": "c3b8d751-67a9-42a9-b7d4-877467f2c5af",
   "metadata": {},
   "source": [
    "#### Omitting Start and End\n",
    "You can omit the start and end values to slice from the beginning or to the end of the string:"
   ]
  },
  {
   "cell_type": "code",
   "execution_count": null,
   "id": "df96a6e2-23f4-4def-8074-143af1079dfc",
   "metadata": {},
   "outputs": [],
   "source": [
    "text = \"Python Programming\"\n",
    "\n",
    "# Slicing from the start to index 6 (exclusive)\n",
    "result1 = text[:6]\n",
    "print(result1)  # Output: Python"
   ]
  },
  {
   "cell_type": "code",
   "execution_count": null,
   "id": "ebc3984d-e78c-456e-9563-088306ce4003",
   "metadata": {},
   "outputs": [],
   "source": [
    "# Slicing from index 7 to the end of the string\n",
    "result2 = text[7:]\n",
    "print(result2)  # Output: Programming\n"
   ]
  },
  {
   "cell_type": "markdown",
   "id": "6861486e-8a30-47be-a047-bfedce2e8613",
   "metadata": {},
   "source": [
    "**Explanation:**\n",
    "\n",
    "[:6] slices from the beginning of the string up to (but not including) index 6.\n",
    "\n",
    "[7:] slices from index 7 to the end of the string.\n"
   ]
  },
  {
   "cell_type": "markdown",
   "id": "5aae2070-ad72-41f7-bfa3-285d57780846",
   "metadata": {},
   "source": [
    "#### Negative Indices\n",
    "In Python, negative indices can be used to slice the string from the end."
   ]
  },
  {
   "cell_type": "code",
   "execution_count": null,
   "id": "243952a7-afd8-40db-a54b-04bc11f5702b",
   "metadata": {},
   "outputs": [],
   "source": [
    "text = \"Python Programming\"\n",
    "\n",
    "# Slicing from the second last character to the end\n",
    "result = text[-2:]\n",
    "print(result)  # Output: ng"
   ]
  },
  {
   "cell_type": "markdown",
   "id": "8aaa7dd5-dbe6-4b4c-8b84-f4e0f3d698fb",
   "metadata": {},
   "source": [
    "**Explanation:** Negative indices count from the end of the string. Here -2 starts from the second last character and slices to the end of the string."
   ]
  },
  {
   "cell_type": "markdown",
   "id": "cfa0a17f-ad4b-4c1e-af4c-8995d62fb6cc",
   "metadata": {},
   "source": [
    "#### Reverse Slicing\n",
    "You can also use negative steps to slice a string in reverse order."
   ]
  },
  {
   "cell_type": "code",
   "execution_count": null,
   "id": "b9bdb11a-18f5-42e9-b058-d4a9553d0370",
   "metadata": {},
   "outputs": [],
   "source": [
    "text = \"Python Programming\"\n",
    "\n",
    "# Slicing in reverse order\n",
    "result = text[::-1]\n",
    "print(result)  # Output: gnimmargorP nohtyP"
   ]
  },
  {
   "cell_type": "markdown",
   "id": "5fcce2fd-5eb5-4500-82a0-60b6622ebcfe",
   "metadata": {},
   "source": [
    "**Explanation:** [::-1] reverses the string by stepping backwards through every character."
   ]
  },
  {
   "cell_type": "markdown",
   "id": "c78102bb-b9dc-460e-84fd-28409843b74f",
   "metadata": {},
   "source": [
    "---\n"
   ]
  },
  {
   "cell_type": "markdown",
   "id": "dd2e2a46-83f4-4fdd-b136-20125f968735",
   "metadata": {},
   "source": [
    "**ENJOY !!**"
   ]
  }
 ],
 "metadata": {
  "kernelspec": {
   "display_name": "Python [conda env:base] *",
   "language": "python",
   "name": "conda-base-py"
  },
  "language_info": {
   "codemirror_mode": {
    "name": "ipython",
    "version": 3
   },
   "file_extension": ".py",
   "mimetype": "text/x-python",
   "name": "python",
   "nbconvert_exporter": "python",
   "pygments_lexer": "ipython3",
   "version": "3.12.6"
  }
 },
 "nbformat": 4,
 "nbformat_minor": 5
}

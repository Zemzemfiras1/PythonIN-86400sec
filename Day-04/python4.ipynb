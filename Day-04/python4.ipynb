{
 "cells": [
  {
   "cell_type": "markdown",
   "id": "59563515-1434-421a-8ae4-2328173ea99a",
   "metadata": {},
   "source": [
    "# Section 7 : Control flow statements "
   ]
  },
  {
   "cell_type": "markdown",
   "id": "ee72a5df-396e-44ba-b0e6-9d35ae82155a",
   "metadata": {},
   "source": [
    "Control flow statements dictate the order in which instructions in a program are executed. Python provides several mechanisms for controlling flow:\n",
    "\n",
    "- **Conditional Statements:** Execute different blocks of code based on conditions.\n",
    "- **Loops:** Repeat code execution under specified conditions."
   ]
  },
  {
   "cell_type": "markdown",
   "id": "8d399ce1-354b-4d8a-aaeb-479922d4a6a9",
   "metadata": {},
   "source": [
    "## Conditional Statements\n",
    "\n",
    "Conditional statements in Python allow you to execute certain blocks of code based on whether a condition is True or False. These conditions are evaluated using comparison operators or boolean expressions, which can help in making decisions in your code. The main conditional statements in Python are if, if-else, and if-elif-else."
   ]
  },
  {
   "cell_type": "markdown",
   "id": "1d4f0653-9518-40d0-9c2b-87669f5b6177",
   "metadata": {},
   "source": [
    "### If-Else Statements \n",
    "If-else statements allow your program to make decisions based on certain conditions.\n",
    "\n",
    "**Syntax** \n",
    "\n",
    "```python\n",
    "if condition:\n",
    "    # Code block executed if condition is True\n",
    "else:\n",
    "    # Code block executed if condition is False\n",
    "\n",
    "```\n"
   ]
  },
  {
   "cell_type": "markdown",
   "id": "f1f806c9-44df-41ca-9744-d0660e4b3e72",
   "metadata": {},
   "source": [
    "**Basic If-Else Example**"
   ]
  },
  {
   "cell_type": "code",
   "execution_count": null,
   "id": "b48b2119-55f2-483e-aeef-6c6f64ae8fda",
   "metadata": {},
   "outputs": [],
   "source": [
    "x = 10\n",
    "if x > 5:\n",
    "    print(\"x is greater than 5\")\n",
    "else:\n",
    "    print(\"x is less than or equal to 5\")\n"
   ]
  },
  {
   "cell_type": "markdown",
   "id": "e469599b-fbee-4697-b254-d2be13ca1ca6",
   "metadata": {},
   "source": [
    "**Example: Check for a Specific DNA Base**\n",
    "\n",
    "write a Python program to check if a DNA sequence contains the base A (adenine)"
   ]
  },
  {
   "cell_type": "code",
   "execution_count": null,
   "id": "8e2e6a4a-2446-4d1c-a54f-0ac13e8bc551",
   "metadata": {},
   "outputs": [],
   "source": [
    "dna_sequence = \"ATCGGATCGA\"\n",
    "\n",
    "if \"A\" in dna_sequence:\n",
    "    print(\"The sequence contains adenine (A).\")\n",
    "else:\n",
    "    print(\"The sequence does not contain adenine (A).\")\n"
   ]
  },
  {
   "cell_type": "markdown",
   "id": "43425a0d-55d8-4da2-878d-618f5daa9a55",
   "metadata": {},
   "source": [
    "### If-Elif-Else Example:\n",
    "Sometimes, you need to check multiple conditions. This is where elif (else if) comes into play. It allows you to check multiple conditions in sequence.\n",
    "\n",
    "```python\n",
    "if condition1:\n",
    "    # Code block executed if condition1 is True\n",
    "elif condition2:\n",
    "    # Code block executed if condition1 is False and condition2 is True\n",
    "else:\n",
    "    # Code block executed if all the above conditions are False\n",
    "```\n"
   ]
  },
  {
   "cell_type": "markdown",
   "id": "df8ee5c4-ecb8-4d58-acd4-67a9482dadf4",
   "metadata": {},
   "source": [
    "**Basic If-Else Example**"
   ]
  },
  {
   "cell_type": "code",
   "execution_count": null,
   "id": "c661c425-2575-4ad9-b6f4-1155284098aa",
   "metadata": {},
   "outputs": [],
   "source": [
    "score = 85\n",
    "\n",
    "if score >= 90:\n",
    "    print(\"Grade: A\")\n",
    "elif score >= 80:\n",
    "    print(\"Grade: B\")\n",
    "elif score >= 70:\n",
    "    print(\"Grade: C\")\n",
    "else:\n",
    "    print(\"Grade: F\")\n"
   ]
  },
  {
   "cell_type": "markdown",
   "id": "78c12052-f7eb-4347-90f4-dc740b1df62c",
   "metadata": {},
   "source": [
    "**Example: Classify DNA Sequence Based on Length**\n",
    "\n",
    "use if-elif-else to classify DNA sequences based on their length (e.g., short, medium, long sequences)."
   ]
  },
  {
   "cell_type": "code",
   "execution_count": null,
   "id": "ae729732-3e46-4c67-93b4-d122f53650e9",
   "metadata": {},
   "outputs": [],
   "source": [
    "dna_sequence = \"ATGCGTACG\"\n",
    "\n",
    "if len(dna_sequence) < 50:\n",
    "    print(\"This is a short DNA sequence.\")\n",
    "elif len(dna_sequence) <= 200:\n",
    "    print(\"This is a medium-length DNA sequence.\")\n",
    "else:\n",
    "    print(\"This is a long DNA sequence.\")\n"
   ]
  },
  {
   "cell_type": "markdown",
   "id": "87e3f48a-4e71-4b6d-943e-720fc124335f",
   "metadata": {},
   "source": [
    "##  Loops in Python\n",
    "\n",
    "Loops are used to repeatedly execute a block of code. Python provides two types of loops: for loops and while loops\n"
   ]
  },
  {
   "cell_type": "markdown",
   "id": "98c71fc5-503a-4113-86d2-2515e3141ca5",
   "metadata": {},
   "source": [
    "### For Loop\n",
    "\n",
    "The for loop is generally used when you know the number of iterations you want to perform or when you're working with a sequence of elements (such as a list, string, or tuple).\n",
    "\n",
    "```python\n",
    "for variable in sequence:\n",
    "    # Code block to execute\n",
    "```\n"
   ]
  },
  {
   "cell_type": "markdown",
   "id": "7311f352-ec22-4ec9-886c-1db713a8c4e8",
   "metadata": {},
   "source": [
    "**Basic Example**"
   ]
  },
  {
   "cell_type": "code",
   "execution_count": null,
   "id": "6ecd7491-9ef3-4c2e-9feb-a5dab61cd296",
   "metadata": {},
   "outputs": [],
   "source": [
    "fruits = [\"apple\", \"banana\", \"cherry\"]\n",
    "\n",
    "for fruit in fruits:\n",
    "    print(fruit)\n"
   ]
  },
  {
   "cell_type": "markdown",
   "id": "dc4c8d53-10e9-4639-80fa-ce47ca9b02c9",
   "metadata": {},
   "source": [
    "**Example: Counting Specific Bases in a DNA Sequence**\n",
    "\n",
    "We can use a for loop to iterate over a DNA sequence and count the occurrence of each base"
   ]
  },
  {
   "cell_type": "code",
   "execution_count": null,
   "id": "e2e6d262-91fc-477d-9bc8-dfa465d7193b",
   "metadata": {},
   "outputs": [],
   "source": [
    "dna_sequence = \"ATCGGATCGA\"\n",
    "count_A = 0\n",
    "count_T = 0\n",
    "count_C = 0\n",
    "count_G = 0\n",
    "\n",
    "for base in dna_sequence:\n",
    "    if base == \"A\":\n",
    "        count_A += 1\n",
    "    elif base == \"T\":\n",
    "        count_T += 1\n",
    "    elif base == \"C\":\n",
    "        count_C += 1\n",
    "    elif base == \"G\":\n",
    "        count_G += 1\n",
    "\n",
    "print(f\"A: {count_A}, T: {count_T}, C: {count_C}, G: {count_G}\")\n"
   ]
  },
  {
   "cell_type": "markdown",
   "id": "1bf9db8a-5eb6-4d3b-b9c8-63e826146758",
   "metadata": {},
   "source": [
    "#### For Loop with Range\n",
    "\n",
    "\n",
    "Hint : The range() function generates a sequence of numbers, which can be used with for loops.\n",
    "\n",
    "```python\n",
    "for i in range(start, stop, step):\n",
    "    # Code block to execute\n",
    "```\n",
    "**example**"
   ]
  },
  {
   "cell_type": "code",
   "execution_count": null,
   "id": "6d8fd14b-dae2-4f24-b0e0-ca01e5da944a",
   "metadata": {},
   "outputs": [],
   "source": [
    "for i in range(1, 6):  # Range from 1 to 5\n",
    "    print(i)\n"
   ]
  },
  {
   "cell_type": "markdown",
   "id": "a06292a4-52d6-46fb-b146-2768491f4b28",
   "metadata": {},
   "source": [
    "**example : Extracting Substrings from DNA Sequence**\n",
    "\n",
    "You can use a for loop combined with range() to extract specific sections of a DNA sequence (substrings)."
   ]
  },
  {
   "cell_type": "code",
   "execution_count": null,
   "id": "b0f3a25d-643c-4f80-ba7c-0b87273e9a45",
   "metadata": {},
   "outputs": [],
   "source": [
    "dna_sequence = \"ATCGGATCGA\"\n",
    "\n",
    "# Extract every 3rd base from the DNA sequence\n",
    "for i in range(0, len(dna_sequence), 3):\n",
    "    print(dna_sequence[i:i+3])  # Extracts a substring of length 3\n"
   ]
  },
  {
   "cell_type": "markdown",
   "id": "9e8328c4-d72c-4102-849c-4743716d4c8c",
   "metadata": {},
   "source": [
    "#### Nested For Loops\n",
    "\n",
    "You can have one for loop inside another. This is useful for iterating over multi-dimensional data structures like lists of lists."
   ]
  },
  {
   "cell_type": "code",
   "execution_count": null,
   "id": "8e775d66-4820-40b1-b495-cfc9d1534146",
   "metadata": {},
   "outputs": [],
   "source": [
    "matrix = [[1, 2, 3], [4, 5, 6], [7, 8, 9]]\n",
    "\n",
    "for row in matrix:\n",
    "    for element in row:\n",
    "        print(element)\n"
   ]
  },
  {
   "cell_type": "markdown",
   "id": "f1dd21c2-d179-4be8-b3ae-ba0386f17ced",
   "metadata": {},
   "source": [
    "### While Loop\n",
    "\n",
    "A while loop repeatedly executes a block of code as long as a specified condition is True.\n",
    "\n",
    "```python\n",
    "while condition:\n",
    "    # Code block to execute as long as condition is True\n",
    "```"
   ]
  },
  {
   "cell_type": "markdown",
   "id": "0e11e0db-160f-41cb-a9d4-532fc6f7f89f",
   "metadata": {},
   "source": [
    "**Example**"
   ]
  },
  {
   "cell_type": "code",
   "execution_count": null,
   "id": "e56aa2ee-dbfc-4fbc-879d-393031431639",
   "metadata": {},
   "outputs": [],
   "source": [
    "count = 0\n",
    "while count < 5:\n",
    "    print(count)\n",
    "    count += 1  # Increase count by 1 in each iteration\n"
   ]
  },
  {
   "cell_type": "markdown",
   "id": "b1000afb-61b3-415c-ae3d-e7d19aa87e09",
   "metadata": {},
   "source": [
    "**Example: Searching for a Pattern in a DNA Sequence**\n",
    "    \n",
    "You can use a while loop when you need to iterate through a sequence and search for specific patterns, such as a certain motif in a DNA sequence."
   ]
  },
  {
   "cell_type": "code",
   "execution_count": null,
   "id": "6c5d7963-a47b-4b73-af3d-bd2e1f80ba8f",
   "metadata": {},
   "outputs": [],
   "source": [
    "dna_sequence = \"ATCGGATCGAATGATGCTAG\"\n",
    "pattern = \"ATG\"\n",
    "index = 0\n",
    "\n",
    "while index < len(dna_sequence):\n",
    "    index = dna_sequence.find(pattern, index)\n",
    "    if index == -1:  # No more occurrences found\n",
    "        break\n",
    "    print(f\"Pattern '{pattern}' found at index {index}\")\n",
    "    index += len(pattern)  # Move past the found pattern\n"
   ]
  },
  {
   "cell_type": "markdown",
   "id": "ab3e17b3-1494-4bcd-81ea-3f8fce10672a",
   "metadata": {},
   "source": [
    "## Break Statements\n",
    "\n",
    "The break statement is used to exit the current loop (either for or while) prematurely when a specific condition is met. After the break statement is executed, the control moves to the first statement after the loop.\n"
   ]
  },
  {
   "cell_type": "markdown",
   "id": "1cb42993-2a9f-4d0a-addd-2e680345d687",
   "metadata": {},
   "source": [
    "\n",
    "**Syntax 1 :**\n",
    "\n",
    "```python\n",
    "for item in iterable:\n",
    "    # code block\n",
    "    if condition_to_break:\n",
    "        break  # Exit the loop if the condition is met\n",
    "    # other code\n",
    "\n",
    "```\n",
    "**Syntax 2 :**\n",
    "```python\n",
    "while condition:\n",
    "    # code block\n",
    "    if condition_to_break:\n",
    "        break  # Exit the loop if the condition is met\n",
    "    # other code\n",
    "\n",
    "```"
   ]
  },
  {
   "cell_type": "markdown",
   "id": "69702277-b982-4d2b-bb89-b970c5eb69bc",
   "metadata": {},
   "source": [
    "###  Break in a for loop \n",
    "\n",
    "The following example finds the first occurrence of the number 5 in a list of numbers and then exits the loop using the break statement."
   ]
  },
  {
   "cell_type": "code",
   "execution_count": null,
   "id": "b402d824-fb28-4106-9a3b-7721740d2fc7",
   "metadata": {},
   "outputs": [],
   "source": [
    "numbers = [1, 3, 5, 7, 9, 5, 11]\n",
    "for number in numbers:\n",
    "    if number == 5:\n",
    "        print(\"Found the number 5!\")\n",
    "        break  # Exit the loop after finding the first 5\n"
   ]
  },
  {
   "cell_type": "markdown",
   "id": "5d7d67a8-654e-44a4-a319-fcfd3e6d48da",
   "metadata": {},
   "source": [
    "### Break in a while loop\n",
    "\n",
    "This example demonstrates the use of break in a while loop, which exits once the variable count exceeds 5."
   ]
  },
  {
   "cell_type": "code",
   "execution_count": null,
   "id": "5578f417-76e4-4c9a-9e32-8e0985fa3685",
   "metadata": {},
   "outputs": [],
   "source": [
    "count = 0\n",
    "while count <= 5:\n",
    "    print(count)\n",
    "    if count == 3:\n",
    "        break  # Exit the loop when count is 3\n",
    "    count += 1\n"
   ]
  },
  {
   "cell_type": "markdown",
   "id": "5899df7c-ae66-4f93-9ea3-74202ce254f7",
   "metadata": {},
   "source": [
    "**Example: Stop Searching for Pattern After a Certain Number of Occurrences**\n"
   ]
  },
  {
   "cell_type": "code",
   "execution_count": null,
   "id": "d6ca55e5-dd3d-4b5b-8f48-a8309bd92ffe",
   "metadata": {},
   "outputs": [],
   "source": [
    "dna_sequence = \"ATGCGATGCTGATGGAAT\"\n",
    "pattern = \"ATG\"\n",
    "occurrence_limit = 2\n",
    "count = 0\n",
    "index = 0\n",
    "\n",
    "while count < occurrence_limit:\n",
    "    index = dna_sequence.find(pattern, index)\n",
    "    if index == -1:  # No more occurrences found\n",
    "        break\n",
    "    print(f\"Pattern '{pattern}' found at index {index}\")\n",
    "    count += 1\n",
    "    index += len(pattern)  # Move past the found pattern\n"
   ]
  },
  {
   "cell_type": "markdown",
   "id": "06971cfa-6ea8-4cea-832e-90e075106c8f",
   "metadata": {},
   "source": [
    "## Continue Statement\n",
    "\n",
    "The continue statement is used to skip the current iteration of a loop and move to the next iteration. It is often used when you want to skip certain conditions but continue processing the remaining items.\n",
    "\n"
   ]
  },
  {
   "cell_type": "markdown",
   "id": "55942938-a988-4140-92ad-9230a36f9dae",
   "metadata": {},
   "source": [
    "**Syntax1:**\n",
    "\n",
    "```python\n",
    "while condition:\n",
    "    # code block\n",
    "    if condition_to_skip:\n",
    "        continue  # Skip the rest of the code and move to the next iteration\n",
    "    # other code\n",
    "\n",
    "```\n",
    "\n",
    "**Syntax2:**\n",
    "\n",
    "```python\n",
    "for item in iterable:\n",
    "    # code block\n",
    "    if condition_to_skip:\n",
    "        continue  # Skip the rest of the code and move to the next iteration\n",
    "    # other code\n",
    "```"
   ]
  },
  {
   "cell_type": "markdown",
   "id": "8f10178c-a3d3-4115-9584-b9d696f1aa64",
   "metadata": {},
   "source": [
    "### Continue in a for loop"
   ]
  },
  {
   "cell_type": "markdown",
   "id": "616abde9-f031-45a8-bc07-506664e949b4",
   "metadata": {},
   "source": [
    "The following example skips the number 5 in the list of numbers, but prints the rest.\n"
   ]
  },
  {
   "cell_type": "code",
   "execution_count": null,
   "id": "379d8c0d-3c82-440d-9b65-29f8f9e3dd88",
   "metadata": {},
   "outputs": [],
   "source": [
    "numbers = [1, 3, 5, 7, 9, 5, 11]\n",
    "for number in numbers:\n",
    "    if number == 5:\n",
    "        continue  # Skip the rest of the loop when number is 5\n",
    "    print(number)\n"
   ]
  },
  {
   "cell_type": "markdown",
   "id": "d00ee5cd-1e47-40ad-bde4-95f4c90dd107",
   "metadata": {},
   "source": [
    "### Continue in a while loop"
   ]
  },
  {
   "cell_type": "markdown",
   "id": "9f038217-72bf-4e1d-b952-0a15aeec4e6d",
   "metadata": {},
   "source": [
    "This example skips the iteration when the variable count is 3, but continues the loop for other values.\n"
   ]
  },
  {
   "cell_type": "code",
   "execution_count": null,
   "id": "4627b957-0cd1-43bf-869a-c8fba824f34f",
   "metadata": {},
   "outputs": [],
   "source": [
    "count = 0\n",
    "while count <= 5:\n",
    "    count += 1\n",
    "    if count == 3:\n",
    "        continue  # Skip the iteration when count is 3\n",
    "    print(count)\n"
   ]
  },
  {
   "cell_type": "markdown",
   "id": "6cf883dc-2fd9-4174-8bb7-a40606d27f6a",
   "metadata": {},
   "source": [
    "**Example: Skip a Specific Base in a DNA Sequence**"
   ]
  },
  {
   "cell_type": "code",
   "execution_count": null,
   "id": "38f408b0-5866-4dd2-847a-34ce500d8a0c",
   "metadata": {},
   "outputs": [],
   "source": [
    "dna_sequence = \"ATCGGATCGA\"\n",
    "for base in dna_sequence:\n",
    "    if base == \"G\":\n",
    "        continue  # Skip 'G' bases\n",
    "    print(base)\n"
   ]
  },
  {
   "cell_type": "markdown",
   "id": "b8d54bb2-1ebc-4e8b-bbcd-1a231a36f44f",
   "metadata": {},
   "source": [
    "## Practice "
   ]
  },
  {
   "cell_type": "markdown",
   "id": "31056391-6e12-4b9a-b730-819d1795ff19",
   "metadata": {},
   "source": [
    "### EXercice 1 : \n",
    "Write a program that checks if a given DNA sequence contains both \"ATG\" (start codon) and \"TAA\" (stop codon).\n"
   ]
  },
  {
   "cell_type": "code",
   "execution_count": null,
   "id": "a702f9b2-e737-4050-bb34-c4ec002dfc2a",
   "metadata": {},
   "outputs": [],
   "source": [
    "dna_sequence = input(\"Enter DNA sequence: \")\n",
    "\n",
    "if \"ATG\" in dna_sequence and (\"UAG\" in dna_sequence or \"UAA\" in dna_sequence or \"UGA\" in dna_sequence):\n",
    "    print(\"The sequence contains both the start and stop codons.\")\n",
    "else:\n",
    "    print(\"The sequence does not contain both start and stop codons.\")\n"
   ]
  },
  {
   "cell_type": "markdown",
   "id": "e50313e6-431e-450c-877d-15fda1e9c922",
   "metadata": {},
   "source": [
    "### Exercice 2 :\n",
    "\n",
    "Write a program to count how many times the codon \"ATG\" appears in a DNA sequence.\n",
    "\n"
   ]
  },
  {
   "cell_type": "code",
   "execution_count": null,
   "id": "88e31321-7a84-4653-b2dc-88509c6af84c",
   "metadata": {},
   "outputs": [],
   "source": [
    "dna_sequence = \"ATGCGATGCTGATGGAAT\"\n",
    "count_ATG = 0\n",
    "#print(len(dna_sequence))\n",
    "#print(range(len(dna_sequence) - 2))\n",
    "\n",
    "for i in range(len(dna_sequence) - 2):  # Loop through the sequence\n",
    "    #print(i)\n",
    "    #print(dna_sequence[i:(i+3)])\n",
    "    if dna_sequence[i:i+3] == \"ATG\":\n",
    "        count_ATG += 1\n",
    "\n",
    "print(f\"Codon 'ATG' appears {count_ATG} times.\")\n"
   ]
  },
  {
   "cell_type": "markdown",
   "id": "78e95ee6-3379-4d55-bda5-7334e5aac640",
   "metadata": {},
   "source": [
    "### Exercice 3 : \n",
    "\n",
    "Write a program that continuously asks the user for DNA sequences and checks if the sequence is valid (only contains A, T, C, G) until a valid sequence is entered."
   ]
  },
  {
   "cell_type": "code",
   "execution_count": null,
   "id": "9f0d2dcb-7231-41e4-9aab-c9adff095fbc",
   "metadata": {},
   "outputs": [],
   "source": [
    "valid_bases = set(\"ATCG\")\n",
    "while True:\n",
    "    dna_sequence = input(\"Enter a DNA sequence: \")\n",
    "    if set(dna_sequence.upper()).issubset(valid_bases):\n",
    "        print(\"Valid DNA sequence.\")\n",
    "        break\n",
    "    else:\n",
    "        print(\"Invalid DNA sequence. Please enter only A, T, C, and G.\")\n"
   ]
  },
  {
   "cell_type": "markdown",
   "id": "45aba960-120b-40ad-8ff2-d5ec024f60c6",
   "metadata": {},
   "source": [
    "### Exercice 4 : \n",
    "\n",
    "Write a program that stops when it finds the first \"CG\" pair in a DNA sequence and skips all other \"CG\" pairs.\n"
   ]
  },
  {
   "cell_type": "code",
   "execution_count": null,
   "id": "31dca57e-b9a4-4d06-8b64-2b37addfa0d2",
   "metadata": {},
   "outputs": [],
   "source": [
    "dna_sequence = \"ATGCGATGCGCGT\"\n",
    "index = 0\n",
    "\n",
    "while index < len(dna_sequence):\n",
    "    index = dna_sequence.find(\"CG\", index)\n",
    "    if index == -1:  # No more occurrences found\n",
    "        break\n",
    "    print(f\"'CG' found at index {index}\")\n",
    "    index += 2  # Move past the found \"CG\"\n"
   ]
  },
  {
   "cell_type": "markdown",
   "id": "7a802147-01ae-4ed9-8cfd-e42cfdd58c47",
   "metadata": {},
   "source": [
    "---\n",
    "## Enjoy"
   ]
  }
 ],
 "metadata": {
  "kernelspec": {
   "display_name": "Python [conda env:base] *",
   "language": "python",
   "name": "conda-base-py"
  },
  "language_info": {
   "codemirror_mode": {
    "name": "ipython",
    "version": 3
   },
   "file_extension": ".py",
   "mimetype": "text/x-python",
   "name": "python",
   "nbconvert_exporter": "python",
   "pygments_lexer": "ipython3",
   "version": "3.12.6"
  }
 },
 "nbformat": 4,
 "nbformat_minor": 5
}

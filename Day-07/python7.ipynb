{
 "cells": [
  {
   "cell_type": "markdown",
   "id": "ab8b7679-3631-442f-a3cb-0c2b6c32ba12",
   "metadata": {},
   "source": [
    "# Section 10 : Class "
   ]
  },
  {
   "cell_type": "markdown",
   "id": "76a98a5c-eb3f-4d90-8b13-c87b0dca010d",
   "metadata": {},
   "source": [
    "## what is it !!! \n",
    "A class is a blueprint for creating objects. Objects are instances of a class, and they bundle together data (attributes) and behavior (methods) to model real-world entities.\n",
    "\n",
    "**Syntax**\n",
    "```python\n",
    "class ClassName:\n",
    "    # Attributes and methods go here\n",
    "```"
   ]
  },
  {
   "cell_type": "markdown",
   "id": "31cefd40-3ac4-4f4c-b59b-ed09155fc492",
   "metadata": {},
   "source": [
    "## Class's Components "
   ]
  },
  {
   "cell_type": "markdown",
   "id": "d25c9352-f6b6-46d1-ab13-c2489a97d6ff",
   "metadata": {},
   "source": [
    "### Constructor (__init__)\n",
    "The constructor is a special method that is called automatically when an object is created. It initializes the object’s attributes."
   ]
  },
  {
   "cell_type": "code",
   "execution_count": null,
   "id": "b60d70b3-b8d5-419e-95fd-66bc7418687a",
   "metadata": {},
   "outputs": [],
   "source": [
    "class MyClass: \n",
    "    def __init__(self, name, age):\n",
    "        self.name = name  # Assigning the value to self.name\n",
    "        self.age = age    # Assigning the value to self.age\n",
    "\n",
    "    def greeting(self):\n",
    "        return f\"Hello, {self.name}\"\n",
    "\n",
    "\n",
    "# Instantiate the class with the correct arguments\n",
    "person1 = MyClass(\"Mario\", 30)\n",
    "\n",
    "print(person1.name)\n",
    "print(person1.age)\n",
    "\n",
    "# Call the greet method to see the result\n",
    "print(person1.greeting())\n",
    "\n"
   ]
  },
  {
   "cell_type": "markdown",
   "id": "04f6e084-188b-4aa1-a5fb-91527ecc7994",
   "metadata": {},
   "source": [
    "### Atributes \n",
    "\n",
    "Attributes in a class are variables or data that are associated with a class and its objects. They are used to store information relevant to the class and its instances. Attributes can be broadly categorized as:\n",
    "\n",
    "- Instance Attributes: Unique to each object and set in the constructor.\n",
    "\n",
    "- Class Attributes: Shared by all objects of the class."
   ]
  },
  {
   "cell_type": "code",
   "execution_count": null,
   "id": "9619e85b-f914-4256-8056-7d6cdfbb2bbc",
   "metadata": {},
   "outputs": [],
   "source": [
    "class MyClass:\n",
    "    class_attribute = \"Shared by all instances\"  # Class attribute\n",
    "\n",
    "    def __init__(self, name):\n",
    "        self.name = name  # Instance attribute\n"
   ]
  },
  {
   "cell_type": "markdown",
   "id": "44eca6d8-dee5-4ec4-bec7-c36b337bdae3",
   "metadata": {},
   "source": [
    "**Class Attribute:**\n",
    "\n",
    "- Class attributes are accessed through the class itself or through any instance. However, modifying a class attribute through an instance will modify it only for that specific instance, not the class itself.\n",
    "  \n",
    "    - These are attributes that are shared across all instances of a class.\n",
    "      \n",
    "    - They are defined within the class but outside any methods.\n",
    "    \n",
    "    - Class attributes are accessed using the class name or an instance of the class."
   ]
  },
  {
   "cell_type": "code",
   "execution_count": null,
   "id": "3fba8db7-25c8-45bc-be92-9fdcf2a776d7",
   "metadata": {},
   "outputs": [],
   "source": [
    "class MyClass:\n",
    "    class_attribute = \"Shared by all instances\"  # Class attribute\n",
    "\n",
    "    def __init__(self, name):\n",
    "        self.name = name  # Instance attribute\n",
    "\n",
    "# Creating instances\n",
    "obj1 = MyClass(\"Alice\")\n",
    "obj2 = MyClass(\"Bob\")\n",
    "\n",
    "# Accessing the class attribute via the class\n",
    "print(MyClass.class_attribute)  # Shared by all instances\n",
    "\n",
    "# Accessing the class attribute via an instance\n",
    "print(obj1.class_attribute)  # Shared by all instances\n",
    "print(obj2.class_attribute)  # Shared by all instances\n"
   ]
  },
  {
   "cell_type": "markdown",
   "id": "940db050-ba36-4607-af07-3d86d2725052",
   "metadata": {},
   "source": [
    "**Instance Attribute:**\n",
    "\n",
    "- Instance attributes are unique to each object created from the class and can only be accessed through the instance.\n",
    "  \n",
    "    - These are attributes specific to an instance of a class.\n",
    "    \n",
    "    - They are typically defined in the __init__ method and are prefixed with self.\n",
    "    \n",
    "    - Each instance of the class has its own copy of the instance attributes.\n",
    "\n"
   ]
  },
  {
   "cell_type": "code",
   "execution_count": null,
   "id": "9801ded8-fb68-47b0-9268-4316c888a1ef",
   "metadata": {},
   "outputs": [],
   "source": [
    "# Accessing the instance attribute\n",
    "print(obj1.name)  # Alice\n",
    "print(obj2.name)  # Bob"
   ]
  },
  {
   "cell_type": "code",
   "execution_count": null,
   "id": "0044e2d1-674e-4abe-a97d-26741ecb907c",
   "metadata": {},
   "outputs": [],
   "source": [
    "# Modifying the class attribute via an instance\n",
    "obj1.class_attribute = \"Modified by obj1\"\n",
    "print(obj1.class_attribute)  # Modified by obj1 (specific to obj1)\n",
    "print(obj2.class_attribute)  # Shared by all instances (not modified for obj2)"
   ]
  },
  {
   "cell_type": "markdown",
   "id": "9380e6ee-b436-49e4-8d65-967a708072d1",
   "metadata": {},
   "source": [
    "**Creating an Object** \n",
    "\n",
    "**Syntax**\n",
    "```python\n",
    "Object = Class_Name(Attributes)\n",
    "```"
   ]
  },
  {
   "cell_type": "code",
   "execution_count": null,
   "id": "1ee4a99d-989b-4009-b669-f7678d49c140",
   "metadata": {},
   "outputs": [],
   "source": [
    "# Define a class\n",
    "class Person:\n",
    "    def __init__(self, name, age):\n",
    "        self.name = name  # Instance attribute\n",
    "        self.age = age    # Instance attribute\n",
    "\n",
    "    def introduce(self):  # Instance method\n",
    "        return f\"My name is {self.name}, and I am {self.age} years old.\"\n",
    "\n",
    "# Create an object (instance of Person)\n",
    "person1 = Person(\"BatMan\", 25)\n",
    "\n",
    "\n",
    "# Access attributes\n",
    "print(person1.name)  # Output: BatMAn\n",
    "print(person1.age)   # Output: 25"
   ]
  },
  {
   "cell_type": "code",
   "execution_count": null,
   "id": "93e50fd2-16cd-4cb3-a192-dd66f6a25a1d",
   "metadata": {},
   "outputs": [],
   "source": [
    "# Call a method\n",
    "print(person1.introduce())  # Output: My name is Alice, and I am 25 years old.\n"
   ]
  },
  {
   "cell_type": "markdown",
   "id": "964c4ba6-7488-42d1-b898-a9d24c666aa5",
   "metadata": {},
   "source": [
    "### Methods\n",
    "\n",
    "Methods are functions defined within a class. They define the behavior of objects. Methods take self as the first argument to access object attributes."
   ]
  },
  {
   "cell_type": "markdown",
   "id": "f451e6b8-af7f-46b7-8e50-cef1d84ac9c6",
   "metadata": {},
   "source": [
    "**Instance Methods:**\n",
    "\n",
    "    Work with an instance of the class (self refers to the instance)."
   ]
  },
  {
   "cell_type": "code",
   "execution_count": null,
   "id": "32986dd7-69d4-4c80-bf0b-a895f925992b",
   "metadata": {},
   "outputs": [],
   "source": [
    "class MyClass:\n",
    "    def __init__(self, name):\n",
    "        self.name = name\n",
    "\n",
    "    def greet(self):\n",
    "        return f\"Hello, {self.name}!\"\n",
    "\n",
    "print(MyClass(\"SuperMan\").greet())\n",
    "\n",
    "# or Object = Class_Name(Attributes)\n",
    "person = MyClass(\"BatMan\")\n",
    "print(person.greet())"
   ]
  },
  {
   "cell_type": "markdown",
   "id": "9473fe5e-7ab4-487b-8f81-3d21c4b8bade",
   "metadata": {},
   "source": [
    "**Class Methods:**\n",
    "\n",
    "    Work on the class itself. Use @classmethod and the cls parameter."
   ]
  },
  {
   "cell_type": "code",
   "execution_count": null,
   "id": "615df505-b7f0-480c-83f8-748f9f4437d4",
   "metadata": {},
   "outputs": [],
   "source": [
    "class MyClass:\n",
    "    class_attribute = \"Hello, World!\"\n",
    "\n",
    "    @classmethod\n",
    "    def class_method(cls, param):\n",
    "        print(f\"Class Attribute: {cls.class_attribute}\")\n",
    "        print(f\"Parameter: {param}\")\n",
    "\n",
    "# Call the class method\n",
    "MyClass.class_method(\"Example\")\n",
    "\n"
   ]
  },
  {
   "cell_type": "markdown",
   "id": "abdb8b06-806d-481f-a29e-2e563f0ec61b",
   "metadata": {},
   "source": [
    "**Static Methods:**\n",
    "\n",
    "    Do not depend on instance or class. Use @staticmethod."
   ]
  },
  {
   "cell_type": "code",
   "execution_count": null,
   "id": "c52fa994-9515-4aab-87f5-0ad44ab41040",
   "metadata": {},
   "outputs": [],
   "source": [
    "class Example:\n",
    "    class_attribute = \"Shared\"\n",
    "\n",
    "    def __init__(self, value):\n",
    "        self.instance_attribute = value\n",
    "\n",
    "    @classmethod\n",
    "    def class_method(cls):\n",
    "        return f\"Class Attribute: {cls.class_attribute}\"\n",
    "\n",
    "    @staticmethod\n",
    "    def static_method():\n",
    "        return \"This is a static method\"\n",
    "\n",
    "# Usage\n",
    "obj = Example(\"Unique Value\")\n",
    "print(obj.class_method())  # Output: Class Attribute: Shared\n",
    "print(obj.static_method())  # Output: This is a static method\n"
   ]
  },
  {
   "cell_type": "markdown",
   "id": "74eb36cc-1b8c-4719-a13b-6c2f208b916a",
   "metadata": {},
   "source": [
    "**Inheritance**\n",
    "  \n",
    "Inheritance allows a class (child class) to inherit attributes and methods from another class (parent class)."
   ]
  },
  {
   "cell_type": "code",
   "execution_count": null,
   "id": "0f8e13cd-6a4c-450d-b026-556be76b444c",
   "metadata": {},
   "outputs": [],
   "source": [
    "# Parent class\n",
    "class Animal:\n",
    "    def __init__(self, species):\n",
    "        self.species = species\n",
    "\n",
    "    def make_sound(self):\n",
    "        return \"Some generic sound\"\n",
    "\n",
    "# Child class\n",
    "class Dog(Animal):\n",
    "    def make_sound(self):\n",
    "        return \"Woof!\"\n",
    "\n",
    "# Create an instance of Dog\n",
    "dog = Dog(\"Canine\")\n",
    "print(dog.species)  # Output: Canine\n",
    "print(dog.make_sound())  # Output: Woof!\n"
   ]
  },
  {
   "cell_type": "markdown",
   "id": "011b8185-0748-42ae-814f-9ffa408ea992",
   "metadata": {},
   "source": [
    "**Encapsulation**\n",
    "\n",
    "Encapsulation restricts access to some attributes or methods to ensure they are not modified directly.\n",
    "\n",
    "- Use a single underscore (_) for protected attributes.\n",
    "\n",
    "- Use a double underscore (__) for private attributes.\n"
   ]
  },
  {
   "cell_type": "code",
   "execution_count": null,
   "id": "df89408a-446e-4774-b8c2-074927d97cf9",
   "metadata": {},
   "outputs": [],
   "source": [
    "class BankAccount:\n",
    "    def __init__(self, balance):\n",
    "        self.__balance = balance  # Private attribute\n",
    "\n",
    "    def deposit(self, amount):\n",
    "        self.__balance += amount\n",
    "\n",
    "    def get_balance(self):\n",
    "        return self.__balance\n",
    "\n",
    "# Create an account\n",
    "account = BankAccount(1000)\n",
    "account.deposit(500)\n",
    "print(account.get_balance())  # Output: 1500\n"
   ]
  },
  {
   "cell_type": "markdown",
   "id": "42f5140a-ed39-49bf-aa80-1d94a29c02cf",
   "metadata": {},
   "source": [
    "**Polymorphism**\n",
    "\n",
    "- Polymorphism allows methods to have the same name but behave differently based on the object.\n",
    "  "
   ]
  },
  {
   "cell_type": "code",
   "execution_count": null,
   "id": "3ec621fb-11ed-48dd-b64c-f7df00ea27c1",
   "metadata": {},
   "outputs": [],
   "source": [
    "class Cat:\n",
    "    def make_sound(self):\n",
    "        return \"Meow\"\n",
    "\n",
    "class Dog:\n",
    "    def make_sound(self):\n",
    "        return \"Woof\"\n",
    "\n",
    "animals = [Cat(), Dog()]\n",
    "for animal in animals:\n",
    "    print(animal.make_sound())  # Output: Meow, Woof\n"
   ]
  },
  {
   "cell_type": "markdown",
   "id": "5729e071-96b8-4e69-aba4-8eb2acd8b105",
   "metadata": {},
   "source": [
    "**Example**  "
   ]
  },
  {
   "cell_type": "code",
   "execution_count": null,
   "id": "dea298ed-770b-4b24-9a33-1bd7ffc36aa2",
   "metadata": {},
   "outputs": [],
   "source": [
    "class Car:\n",
    "    # Class attribute\n",
    "    wheels = 4\n",
    "\n",
    "    # Constructor\n",
    "    def __init__(self, brand, model, year):\n",
    "        self.brand = brand\n",
    "        self.model = model\n",
    "        self.year = year\n",
    "\n",
    "    # Instance method\n",
    "    def display_details(self):\n",
    "        return f\"{self.year} {self.brand} {self.model}\"\n",
    "\n",
    "# Create instances\n",
    "car1 = Car(\"Toyota\", \"Camry\", 2020)\n",
    "car2 = Car(\"Honda\", \"Civic\", 2018)\n",
    "\n",
    "# Access attributes and methods\n",
    "print(car1.display_details())  # Output: 2020 Toyota Camry\n",
    "print(car2.display_details())  # Output: 2018 Honda Civic\n"
   ]
  },
  {
   "cell_type": "markdown",
   "id": "73f9e1d9-7e6a-44cf-b24e-926226b40f4e",
   "metadata": {},
   "source": [
    "## Summary of Key Terms\n",
    "\n",
    "| **Term**         | **Description**                                                               |\n",
    "|-------------------|-------------------------------------------------------------------------------|\n",
    "| **Class**         | A blueprint for creating objects.                                            |\n",
    "| **Object**        | An instance of a class.                                                      |\n",
    "| **Attribute**     | A variable that holds data for the object.                                   |\n",
    "| **Method**        | A function defined in a class that operates on objects.                      |\n",
    "| **Constructor**   | The `__init__` method used to initialize object attributes.                  |\n",
    "| **Inheritance**   | A way to create a new class using an existing class as a base.               |\n",
    "| **Encapsulation** | Restricting access to certain attributes or methods.                         |\n",
    "| **Polymorphism**  | Allowing methods to have the same name but behave differently in different contexts. |\n"
   ]
  },
  {
   "cell_type": "markdown",
   "id": "8ec438e3-2182-4335-a85a-84f89c1092ee",
   "metadata": {},
   "source": [
    "---\n"
   ]
  },
  {
   "cell_type": "markdown",
   "id": "5f3b336c-76e7-442f-b9e0-df41ee791ef0",
   "metadata": {},
   "source": [
    "## ENJOY !!"
   ]
  }
 ],
 "metadata": {
  "kernelspec": {
   "display_name": "Python [conda env:base] *",
   "language": "python",
   "name": "conda-base-py"
  },
  "language_info": {
   "codemirror_mode": {
    "name": "ipython",
    "version": 3
   },
   "file_extension": ".py",
   "mimetype": "text/x-python",
   "name": "python",
   "nbconvert_exporter": "python",
   "pygments_lexer": "ipython3",
   "version": "3.12.6"
  }
 },
 "nbformat": 4,
 "nbformat_minor": 5
}

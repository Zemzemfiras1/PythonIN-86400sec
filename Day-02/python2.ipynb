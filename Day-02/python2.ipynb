{
 "cells": [
  {
   "cell_type": "markdown",
   "id": "fb038405-9f61-410d-897d-a95232b94ba5",
   "metadata": {},
   "source": [
    "##  Section 3 : Lists"
   ]
  },
  {
   "cell_type": "markdown",
   "id": "a830aec1-ddc8-4544-98d7-6f29891b3e3b",
   "metadata": {},
   "source": [
    "A list is a mutable, ordered collection of items. A list can contain elements of different data types, including numbers, strings, and even other lists.\n",
    "\n",
    "my_list = [item1, item2, item3, ...]\n",
    "\n",
    " * Items in the list are separated by commas.\n",
    " * Lists are ordered, meaning the items have a defined order, and this order will not change unless you specifically reorder them.\n",
    " * Lists are mutable, meaning you can change their contents (add, remove, or modify elements)\n",
    "### Basic Operations on Lists:\n"
   ]
  },
  {
   "cell_type": "markdown",
   "id": "5badd4a1-5b92-479e-b195-e38ca1b22585",
   "metadata": {},
   "source": [
    "##### print the hole list "
   ]
  },
  {
   "cell_type": "code",
   "execution_count": null,
   "id": "ff83ac3f-1312-4485-bfeb-add7ad38dd0c",
   "metadata": {},
   "outputs": [],
   "source": [
    "my_list = [1, 2, 3, 5,0 ,77]\n",
    "print(my_list)"
   ]
  },
  {
   "cell_type": "markdown",
   "id": "0f95682c-7d13-4637-9b1e-ea7f8704846c",
   "metadata": {},
   "source": [
    "##### Length of the list:\n",
    "Use len() to get the number of elements in a list"
   ]
  },
  {
   "cell_type": "code",
   "execution_count": null,
   "id": "b726bfce-3876-409b-992c-e410143f55f5",
   "metadata": {},
   "outputs": [],
   "source": [
    "print(len(my_list))  # Prints the length of the list"
   ]
  },
  {
   "cell_type": "markdown",
   "id": "32a33b34-385c-4c8b-a30e-4d5908f60d3e",
   "metadata": {},
   "source": [
    "##### Accessing elements: You can access elements in a list using their index."
   ]
  },
  {
   "cell_type": "code",
   "execution_count": null,
   "id": "9ce3aa40-6909-4211-9f8a-2af904760a7b",
   "metadata": {},
   "outputs": [],
   "source": [
    "print(my_list[0])  # Prints item 1\n",
    "print(my_list[1])  # Prints item 2\n",
    "print(my_list[5])  # Prints the last item "
   ]
  },
  {
   "cell_type": "markdown",
   "id": "2b517485-7581-4839-af18-aafdaa6425cd",
   "metadata": {},
   "source": [
    "##### List Slicing\n",
    "list slicing allows you to access a portion (sublist) of a list by specifying a range of indices. The syntax for slicing is:\n",
    "            \n",
    "            my_list[start:end]\n",
    "\n",
    " * start: The index of the first element you want to include in the slice.\n",
    " * end: The index of the element where the slice should stop before. (The slice will not include this index.)\n",
    "\n",
    "- To Better understand it lets print the indexes along with the values is to use the built-in enumerate() function, which returns both the index and the value as a tuple during iteration.\n"
   ]
  },
  {
   "cell_type": "code",
   "execution_count": null,
   "id": "61bc543f-497f-4f82-8c32-af6029c3e876",
   "metadata": {},
   "outputs": [],
   "source": [
    "print(\"my list is : \", my_list)\n",
    "\n",
    "for index, value in enumerate(my_list):\n",
    "    print(f\"Index {index}: {value}\")"
   ]
  },
  {
   "cell_type": "code",
   "execution_count": null,
   "id": "6f7bbc76-38eb-4a5c-9f4d-f8655d248c6f",
   "metadata": {},
   "outputs": [],
   "source": [
    "print(my_list[1:4])\n"
   ]
  },
  {
   "cell_type": "markdown",
   "id": "7cbb45af-81e0-459b-9ec5-9ad19fb8d779",
   "metadata": {},
   "source": [
    "Another trick is to start counting comma from where to start and where it should end \n",
    "```\n",
    "my list is :  [1 , 2 , 3 , 5 , 0 , 77]\n",
    "\n",
    "comma indexes [v 1 v 2 v 3 v 4 v 5 v 6]\n",
    "```\n",
    "Lets Try to print the item3 > item 6 \n"
   ]
  },
  {
   "cell_type": "code",
   "execution_count": null,
   "id": "df5d2d37-0be1-4e02-813b-d05c42031ca5",
   "metadata": {},
   "outputs": [],
   "source": [
    "print(my_list[2:6])"
   ]
  },
  {
   "cell_type": "markdown",
   "id": "a54d4f26-576b-45b2-b4bc-2d784b50927c",
   "metadata": {},
   "source": [
    "Start Printing from the first item "
   ]
  },
  {
   "cell_type": "code",
   "execution_count": null,
   "id": "0290b3a6-e435-464c-b2e5-059284860a48",
   "metadata": {},
   "outputs": [],
   "source": [
    "print(my_list[0:])"
   ]
  },
  {
   "cell_type": "markdown",
   "id": "03968b3b-0d28-4d82-b4a8-235ec1b9d559",
   "metadata": {},
   "source": [
    "Start Printing from the 3rd item"
   ]
  },
  {
   "cell_type": "code",
   "execution_count": null,
   "id": "8d169774-064e-475f-b35d-28ee6f499b86",
   "metadata": {},
   "outputs": [],
   "source": [
    "print(my_list[2:])"
   ]
  },
  {
   "cell_type": "markdown",
   "id": "809608d8-f4f7-4205-a85a-1f5d0bf7b936",
   "metadata": {},
   "source": [
    "Print until the 3rd item"
   ]
  },
  {
   "cell_type": "code",
   "execution_count": null,
   "id": "5ea046e3-1d73-4cf1-b56d-67de72665a0f",
   "metadata": {},
   "outputs": [],
   "source": [
    "print(my_list[:3])"
   ]
  },
  {
   "cell_type": "markdown",
   "id": "d71a355d-3c43-4db0-ab6c-2ea6296a4e97",
   "metadata": {},
   "source": [
    "Print The last item "
   ]
  },
  {
   "cell_type": "code",
   "execution_count": null,
   "id": "d241dac8-a51a-4b1c-b253-bfc51d1415e1",
   "metadata": {},
   "outputs": [],
   "source": [
    "print(my_list[-1])"
   ]
  },
  {
   "cell_type": "markdown",
   "id": "5464e832-6122-47b4-bc20-96ff40cf29f9",
   "metadata": {},
   "source": [
    "You can also print the entire ist using : "
   ]
  },
  {
   "cell_type": "code",
   "execution_count": null,
   "id": "1be4d1cc-c258-4e77-9ddc-8446bb56b586",
   "metadata": {},
   "outputs": [],
   "source": [
    "my_list[:] "
   ]
  },
  {
   "cell_type": "markdown",
   "id": "6d35098e-fa15-4e9c-bbb3-f8a1918b9158",
   "metadata": {},
   "source": [
    "##### Add an element (Item) \n",
    "You can add elements to the list using **append()** funciton which allow the user to add an element to the end of the list."
   ]
  },
  {
   "cell_type": "code",
   "execution_count": null,
   "id": "276c2c0e-2d4e-4cf5-986e-2d8a70a39fce",
   "metadata": {},
   "outputs": [],
   "source": [
    "my_list.append(100)  # Adds 100 at the end of the list\n",
    "print(my_list)\n"
   ]
  },
  {
   "cell_type": "markdown",
   "id": "76f73deb-ff71-4bef-8343-2703233364d6",
   "metadata": {},
   "source": [
    "You can add elements to the list using **insert()** funciton which allow the user to add an element at a specific position (index) in the list.\n",
    "\n",
    "Syntax : \n",
    "\n",
    "```\n",
    "list.insert(index, element)\n",
    "```"
   ]
  },
  {
   "cell_type": "code",
   "execution_count": null,
   "id": "6b2e54af-c2d6-4cbf-8e22-61377a5dada3",
   "metadata": {},
   "outputs": [],
   "source": [
    "my_list.insert(1,88)  # Adds 4 at the end of the list\n",
    "print(my_list)\n"
   ]
  },
  {
   "cell_type": "code",
   "execution_count": null,
   "id": "3870c002-e38e-4c81-b1fb-6ccfbc6ca819",
   "metadata": {},
   "outputs": [],
   "source": [
    "print(my_list)\n"
   ]
  },
  {
   "cell_type": "markdown",
   "id": "a214ff93-1c31-4474-afe6-223e78cd75da",
   "metadata": {},
   "source": [
    "##### Remove an element (Item) \n",
    "You can remove elements using remove() which Removes the first occurrence of the specified value from the list"
   ]
  },
  {
   "cell_type": "code",
   "execution_count": null,
   "id": "7bc9e106-77f2-4fac-aafa-318233893a2b",
   "metadata": {},
   "outputs": [],
   "source": [
    "my_list.remove(100)\n",
    "print(my_list)"
   ]
  },
  {
   "cell_type": "markdown",
   "id": "1baf691d-11fe-4e4c-b09b-963fbd47e181",
   "metadata": {},
   "source": [
    "You can remove elements using del() which deletes an element at a specified index or the entire list.\n",
    "\n",
    "```\n",
    "del list[index]\n",
    "del list[start:end]   # For slicing\n",
    "del list              # To delete the entire list\n",
    "```\n"
   ]
  },
  {
   "cell_type": "code",
   "execution_count": null,
   "id": "4fb28c9c-0520-4357-8f7e-7541a6b928c4",
   "metadata": {},
   "outputs": [],
   "source": [
    "del my_list[0]\n",
    "print(my_list)\n"
   ]
  },
  {
   "cell_type": "markdown",
   "id": "fe55404e-8c5e-4d93-b1dd-de3d1df638a0",
   "metadata": {},
   "source": [
    "You can remove elements using pop() which removes and returns the element at the specified index (or the last element if no index is provided)\n",
    "```\n",
    "list.pop(index)\n",
    "```"
   ]
  },
  {
   "cell_type": "code",
   "execution_count": null,
   "id": "a160abfd-b042-46ca-9cf5-671d0e119d36",
   "metadata": {},
   "outputs": [],
   "source": [
    "my_list.pop()\n",
    "print(my_list)\n"
   ]
  },
  {
   "cell_type": "markdown",
   "id": "08dcc1f1-02eb-4374-9d03-6b4b71f38993",
   "metadata": {},
   "source": [
    "---"
   ]
  },
  {
   "cell_type": "markdown",
   "id": "53e6cba3-716a-4c48-a84c-cb01c4a4ab03",
   "metadata": {},
   "source": [
    "## Section 4 : Tuples\n",
    "\n"
   ]
  },
  {
   "cell_type": "markdown",
   "id": "df530a3e-fd21-43ca-8924-f94178547fa0",
   "metadata": {},
   "source": [
    "A tuple is a collection of ordered, immutable elements in Python. Tuples are defined by enclosing elements in parentheses () and are often used for fixed collections of related data.\n",
    "\n",
    "- Structure :\n",
    " ```\n",
    " my_tuple = (Value1, Value2, Value3, ....)\n",
    "\n",
    " ```\n",
    "Tuples in Python are immutable, which means you cannot modify a tuple after it is created. This includes adding, removing, or changing individual elements.\n",
    "Immutability makes tuples:\n",
    "\n",
    "- Safer to use as constants, preventing accidental changes.\n",
    "- Hashable, allowing them to be used as keys in dictionaries or elements in sets."
   ]
  },
  {
   "cell_type": "markdown",
   "id": "c4fbfde7-38c1-4a98-b8da-007586a224a0",
   "metadata": {},
   "source": [
    "### Creating a tuple\n",
    "- example 1 : \n"
   ]
  },
  {
   "cell_type": "code",
   "execution_count": null,
   "id": "b06d7d34-080a-4305-8f0c-27d163c274e2",
   "metadata": {},
   "outputs": [],
   "source": [
    "tuple1 = (42, \"hello\", 3.14)\n",
    "print(tuple1)"
   ]
  },
  {
   "cell_type": "markdown",
   "id": "de952fe0-2dc0-45b5-ad13-f9ff02e0fe45",
   "metadata": {},
   "source": [
    "- example 2 : use tuple() instructor"
   ]
  },
  {
   "cell_type": "code",
   "execution_count": null,
   "id": "dc498d80-9beb-4ba9-b8aa-3c7e61b426eb",
   "metadata": {},
   "outputs": [],
   "source": [
    "tuple2 = tuple([\"42\", \"hello\", \"3.14\"])\n",
    "print(tuple2)"
   ]
  },
  {
   "cell_type": "markdown",
   "id": "d1c0beee-0b16-4814-a370-30bb7006b47a",
   "metadata": {},
   "source": [
    "### Accessing Tuple Elements"
   ]
  },
  {
   "cell_type": "markdown",
   "id": "3c418d33-13cc-4812-bc4f-36773ab5549d",
   "metadata": {},
   "source": [
    "Tuples support indexing to access individual elements"
   ]
  },
  {
   "cell_type": "code",
   "execution_count": null,
   "id": "0fbddcd7-7ddd-4320-906a-ddc5d2087650",
   "metadata": {},
   "outputs": [],
   "source": [
    "my_tuple = (10, 20, 30, 40)\n",
    "print(my_tuple[0])  # First element\n",
    "print(my_tuple[-1]) # Last element"
   ]
  },
  {
   "cell_type": "markdown",
   "id": "83c32774-605f-48e1-91d9-4d897e6a301e",
   "metadata": {},
   "source": [
    "### Slicing Tuples\n"
   ]
  },
  {
   "cell_type": "markdown",
   "id": "1cdca3b3-f1f1-441b-992a-b6114aa50022",
   "metadata": {},
   "source": [
    "\n",
    "Tuples can also be sliced to create subsets"
   ]
  },
  {
   "cell_type": "code",
   "execution_count": null,
   "id": "72f41226-efad-4db7-8c2c-8af196a66927",
   "metadata": {},
   "outputs": [],
   "source": [
    "my_tuple = (0, 1, 2, 3, 4, 5)\n",
    "print(my_tuple[1:4])  # Elements from index 1 to 3\n",
    "print(my_tuple[:3])   # First three elements"
   ]
  },
  {
   "cell_type": "markdown",
   "id": "cc29c39f-35a8-4b46-81fc-afb420774234",
   "metadata": {},
   "source": [
    "### Concatenation"
   ]
  },
  {
   "cell_type": "code",
   "execution_count": null,
   "id": "27413391-0e68-4fb1-a21e-2679a96c8bcb",
   "metadata": {},
   "outputs": [],
   "source": [
    "t1 = (1, 2)\n",
    "t2 = (3, 4)\n",
    "t3 = t1 + t2\n",
    "print(t3) \n"
   ]
  },
  {
   "cell_type": "markdown",
   "id": "42adcad8-0421-407e-a2ef-32880cfc411b",
   "metadata": {},
   "source": [
    "### Repetition "
   ]
  },
  {
   "cell_type": "code",
   "execution_count": null,
   "id": "abb04ca7-344e-4bd9-8533-d4e32a1ec8bf",
   "metadata": {},
   "outputs": [],
   "source": [
    "t = (1, 2)\n",
    "print(t * 3)  \n"
   ]
  },
  {
   "cell_type": "markdown",
   "id": "4d9c56f8-f577-4cec-a407-98853597d889",
   "metadata": {},
   "source": [
    "### Unpacking\n",
    "\n",
    "Assign tuple elements to variables:"
   ]
  },
  {
   "cell_type": "code",
   "execution_count": null,
   "id": "dd392a9d-847d-4058-ac7d-12f966cfb05f",
   "metadata": {},
   "outputs": [],
   "source": [
    "t = (1, 2, 3)\n",
    "a, b, c = t\n",
    "print(a, b, c)  \n"
   ]
  },
  {
   "cell_type": "markdown",
   "id": "7f414466-361f-4086-8ed5-2ff898ace53e",
   "metadata": {},
   "source": [
    "### occurrences\n",
    " Using count(): Returns the number of occurrences of a value."
   ]
  },
  {
   "cell_type": "code",
   "execution_count": null,
   "id": "b127120a-a86d-4712-90e2-b8b6312497b7",
   "metadata": {},
   "outputs": [],
   "source": [
    "t = (1, 2, 2, 3)\n",
    "print(t.count(2))  \n"
   ]
  },
  {
   "cell_type": "markdown",
   "id": "4589208e-9c95-43de-8b1e-45f63fd37a3a",
   "metadata": {},
   "source": [
    "### Indexing \n",
    "\n",
    "Using index(): Returns the index of the first occurrence of a value.\n"
   ]
  },
  {
   "cell_type": "code",
   "execution_count": null,
   "id": "cdc03064-e1db-4f87-9c14-34caaee77491",
   "metadata": {},
   "outputs": [],
   "source": [
    "print(t.index(3))   \n"
   ]
  },
  {
   "cell_type": "markdown",
   "id": "ed83adcd-5393-4d80-9ab1-694d4293900d",
   "metadata": {},
   "source": [
    "### Converting Between Tuples and Other Types"
   ]
  },
  {
   "cell_type": "markdown",
   "id": "4c9eceff-2f2f-46df-8553-7259f5792fe8",
   "metadata": {},
   "source": [
    "Convert a list to a tuple:"
   ]
  },
  {
   "cell_type": "code",
   "execution_count": null,
   "id": "406a5929-1d31-40c5-8494-9ad2ed0cb786",
   "metadata": {},
   "outputs": [],
   "source": [
    "lst = [1, 2, 3]\n",
    "t = tuple(lst)\n",
    "print(t) "
   ]
  },
  {
   "cell_type": "markdown",
   "id": "8d35d843-be53-4227-bfc5-078c2709240d",
   "metadata": {},
   "source": [
    "Convert a tuple to a list:"
   ]
  },
  {
   "cell_type": "code",
   "execution_count": null,
   "id": "40fe351a-a107-4aeb-a091-98526bc02bb0",
   "metadata": {},
   "outputs": [],
   "source": [
    "t = (1, 2, 3)\n",
    "lst = list(t)\n",
    "print(lst)  \n"
   ]
  },
  {
   "cell_type": "markdown",
   "id": "d79b14f9-970c-4d1b-82e5-6d1f82d87a6f",
   "metadata": {},
   "source": [
    "###  Nested Tuples"
   ]
  },
  {
   "cell_type": "code",
   "execution_count": null,
   "id": "1f49aba1-9826-4536-8484-fcb5dc7b11b7",
   "metadata": {},
   "outputs": [],
   "source": [
    "t = ((1, 2), (3, 4))\n",
    "print(t[0])  \n",
    "print(t[0][1])   "
   ]
  },
  {
   "cell_type": "markdown",
   "id": "0c79ae1d-a3e3-4916-85f5-649631ee8944",
   "metadata": {},
   "source": [
    "### Comparison"
   ]
  },
  {
   "cell_type": "markdown",
   "id": "10d33fd4-d8ce-4a62-a82f-93b27722bd18",
   "metadata": {},
   "source": [
    "tuples are compared lexicographically, meaning they are compared element by element from left to right until a difference is found.\n",
    "\n",
    "**Key Notes on Tuple Comparisons:**\n",
    "\n",
    " - If the first elements are equal, the comparison moves to the next elements.\n",
    " - If all elements are equal up to the shorter tuple's length, the shorter tuple is considered smaller.\n",
    " - Lexicographic comparison mimics how words are compared in a dictionary.\n"
   ]
  },
  {
   "cell_type": "code",
   "execution_count": null,
   "id": "5caa76be-f528-461a-b466-b502f5b5c26e",
   "metadata": {},
   "outputs": [],
   "source": [
    "t1 = (1, 2, 3)\n",
    "t2 = (0, 1, 4)\n",
    "print(t1 < t2)  # Output: False\n"
   ]
  },
  {
   "cell_type": "markdown",
   "id": "75e78092-ffe3-4b21-976c-b7b15b32918b",
   "metadata": {},
   "source": [
    "Tuple Comparison Process\n",
    "Given:\n",
    "\n",
    "t1 = (1, 2, 3)\n",
    "\n",
    "t2 = (0, 1, 4)\n",
    "\n",
    "Compare the first elements:\n",
    "\n",
    "t1[0] is 1, and t2[0] is 0.\n",
    "\n",
    "Since 1 > 0, the comparison stops here.\n",
    "\n",
    "The result of the comparison is determined solely by this first element comparison: 1 > 0.\n",
    "\n",
    "Outcome : Since t1[0] > t2[0], the condition t1 < t2 is False."
   ]
  },
  {
   "cell_type": "code",
   "execution_count": null,
   "id": "7589c986-02b6-4c0b-a72d-f0625de1ab97",
   "metadata": {},
   "outputs": [],
   "source": [
    "(1, 2, 3) < (1, 2, 4)  # True because 3 < 4\n"
   ]
  },
  {
   "cell_type": "code",
   "execution_count": null,
   "id": "c5543998-8c77-4590-b757-1681e472357c",
   "metadata": {},
   "outputs": [],
   "source": [
    "(1, 2) < (1, 2, 0)     # True because shorter tuples are compared only to their length\n"
   ]
  },
  {
   "cell_type": "code",
   "execution_count": null,
   "id": "9969d177-a061-4404-9f7f-b0e54fee589d",
   "metadata": {},
   "outputs": [],
   "source": [
    "(0, 4, 5) < (1, 2, 3)  # True because 1 > 0\n"
   ]
  },
  {
   "cell_type": "markdown",
   "id": "b7e1057f-6b14-4796-aaa9-1378fb1571db",
   "metadata": {},
   "source": [
    "### Deleting Tuples "
   ]
  },
  {
   "cell_type": "code",
   "execution_count": null,
   "id": "8c6d7e39-1e13-4ede-a301-d14bf276ce01",
   "metadata": {},
   "outputs": [],
   "source": [
    "t = (1, 2, 3)\n",
    "del t\n",
    "print(t)"
   ]
  },
  {
   "cell_type": "markdown",
   "id": "89282ff9-cd9c-4705-938d-cf6304260821",
   "metadata": {},
   "source": [
    "---"
   ]
  },
  {
   "cell_type": "markdown",
   "id": "ec0ac2fc-8cd5-45de-aba0-01417b1bd4ec",
   "metadata": {},
   "source": [
    "##  Section 5 : Sets\n"
   ]
  },
  {
   "cell_type": "markdown",
   "id": "7cf0d88b-7ed5-4c40-8b63-2c599187c2cd",
   "metadata": {},
   "source": [
    "**What are Sets?**\n",
    "- A set is a collection of unique and unordered elements in Python.\n",
    "- Defined using `{}` or the `set()` function.\n",
    "  "
   ]
  },
  {
   "cell_type": "markdown",
   "id": "359a76d9-478d-46eb-87be-2b536b233f88",
   "metadata": {},
   "source": [
    "- Create an empty set named myset : "
   ]
  },
  {
   "cell_type": "code",
   "execution_count": null,
   "id": "81f49689-d295-4ca4-8022-bdc1c2c4b81e",
   "metadata": {},
   "outputs": [],
   "source": [
    "my_set = set()\n",
    "\n",
    "# print my_set \n",
    "print(my_set)\n",
    "\n",
    "# check my_set type \n",
    "print(type(my_set))"
   ]
  },
  {
   "cell_type": "markdown",
   "id": "69e2ecec-cc6e-4c69-8231-8a07d488d3e9",
   "metadata": {},
   "source": [
    "### Adding Elements to Sets"
   ]
  },
  {
   "cell_type": "markdown",
   "id": "6e227192-7b67-49ca-ab6f-a16b18521bee",
   "metadata": {},
   "source": [
    "- Lets create a simple set which contains these n° 1,2,3,4,5  :"
   ]
  },
  {
   "cell_type": "code",
   "execution_count": null,
   "id": "f612493a-c4f1-47fd-9bb0-69044630a349",
   "metadata": {},
   "outputs": [],
   "source": [
    "my_set = {1, 2, 3, 4, 5}\n",
    "print(my_set)\n"
   ]
  },
  {
   "cell_type": "markdown",
   "id": "f7cf34d1-450f-4bd0-b7a1-22f2b22d7908",
   "metadata": {},
   "source": [
    "- Add add an element  to my set eg. 5 "
   ]
  },
  {
   "cell_type": "code",
   "execution_count": null,
   "id": "b38c7cad-cff5-49a6-beb0-f20e362fc4ab",
   "metadata": {},
   "outputs": [],
   "source": [
    "new_set = my_set.add(0)  \n",
    "print(new_set)  "
   ]
  },
  {
   "cell_type": "markdown",
   "id": "eca7b92d-7070-40c0-b088-49a52b6cb131",
   "metadata": {},
   "source": [
    "**Explanation :**  The reason new_set = my_set.add(5) gives you None is that the .add() method in Python does not return any value; it modifies the set in place. When a method doesn't return anything explicitly, Python implicitly returns None.\n",
    "- Lets try "
   ]
  },
  {
   "cell_type": "code",
   "execution_count": null,
   "id": "f8cd9b79-95cb-4a7a-9bf5-08683ce47e89",
   "metadata": {},
   "outputs": [],
   "source": [
    "my_set.add(0)  \n",
    "print(my_set)  "
   ]
  },
  {
   "cell_type": "markdown",
   "id": "79eb0f28-d510-4743-8a63-4e6eceb988bd",
   "metadata": {},
   "source": [
    "- Adding multiple elements to a set using the update()"
   ]
  },
  {
   "cell_type": "code",
   "execution_count": null,
   "id": "459d863b-b7be-4874-a3ce-f4e73eb22cc2",
   "metadata": {},
   "outputs": [],
   "source": [
    "print(\"Initial set :\",my_set)\n",
    "\n",
    "# Add multiple elements\n",
    "my_set.update([6, 7, 8])\n",
    "\n",
    "print(\"Updated set :\", my_set)\n"
   ]
  },
  {
   "cell_type": "markdown",
   "id": "b2a0b221-86ea-40b0-ad4e-f8cc64d4a4cc",
   "metadata": {},
   "source": [
    "### Removing Elements from Sets"
   ]
  },
  {
   "cell_type": "markdown",
   "id": "87c7ff3e-e303-417a-b9ea-292a49339a29",
   "metadata": {},
   "source": [
    "- To remove an element for a set , you may use either .remove() which Raises a KeyError if the element is not found.\n",
    "- Use Case: When you're certain the element exists in the set.\n"
   ]
  },
  {
   "cell_type": "code",
   "execution_count": null,
   "id": "cff4b094-d4a1-4dd2-9c7c-371fa8a749ea",
   "metadata": {},
   "outputs": [],
   "source": [
    "print(\"Initial set : \", my_set)"
   ]
  },
  {
   "cell_type": "code",
   "execution_count": null,
   "id": "b47cdfc7-cf37-4d7f-9fac-6cfa04ec4059",
   "metadata": {},
   "outputs": [],
   "source": [
    "# Remove n° 3\n",
    "my_set.remove(3)\n",
    "print(my_set)"
   ]
  },
  {
   "cell_type": "markdown",
   "id": "ee0b8f01-fffb-4730-9c8d-7164a90f0cb7",
   "metadata": {},
   "source": [
    "- **Re-run the above cell and checkout what is the output**"
   ]
  },
  {
   "cell_type": "markdown",
   "id": "85df9731-7cb7-4b01-bf83-81f3b9808c6e",
   "metadata": {},
   "source": [
    "- To remove an element for a set , you may use either .discard() Does not raise an error if the element is not found; it simply does nothing.\n",
    "- Use Case: When you're not sure if the element exists and want to avoid errors.\n"
   ]
  },
  {
   "cell_type": "markdown",
   "id": "ab64d8c7-ac47-4146-9ac0-a7a0a2e40ec8",
   "metadata": {},
   "source": [
    "- **Try to remove the non-existant element \"3\" removed before** "
   ]
  },
  {
   "cell_type": "code",
   "execution_count": null,
   "id": "f1844f50-d0ad-4708-a286-1f7272045fa5",
   "metadata": {},
   "outputs": [],
   "source": [
    "# Remove n° 3\n",
    "my_set.discard(3)\n",
    "print(my_set)"
   ]
  },
  {
   "cell_type": "markdown",
   "id": "82906c43-615f-42fb-97dc-e276549e9863",
   "metadata": {},
   "source": [
    "**Summary**\n",
    "| Method      | Behavior if the element is not in the set | Raises Error? | Use Case                                |\n",
    "|-------------|-------------------------------------------|---------------|----------------------------------------|\n",
    "| `.remove()` | Raises a `KeyError`.                      | Yes           | Use when you're sure the element exists. |\n",
    "| `.discard()` | Does nothing.                            | No            | Use when you're not sure if the element exists. |\n"
   ]
  },
  {
   "cell_type": "markdown",
   "id": "24e1e0c6-f86e-4d02-9c6c-159fefd48f1d",
   "metadata": {},
   "source": [
    "### Membership Testing\n",
    "Check if an element exists in a set using the `in` keyword.\n"
   ]
  },
  {
   "cell_type": "code",
   "execution_count": null,
   "id": "cee05db0-75de-4f6d-9d64-653b41ea5d35",
   "metadata": {},
   "outputs": [],
   "source": [
    "print(my_set)\n",
    "print(3 in my_set)  \n",
    "print(6 in my_set)  "
   ]
  },
  {
   "cell_type": "markdown",
   "id": "2c9843bc-2fec-4026-80cb-3534186dcfbf",
   "metadata": {},
   "source": [
    "### Mathematical Operations\n",
    "Mathematical Operations on Sets :\n",
    "1. Union (`|` or `.union()`)\n",
    "2. Intersection (`&` or `.intersection()`)\n",
    "3. Difference (`-` or `.difference()`)\n",
    "4. Symmetric Difference (`^` or `.symmetric_difference()`)"
   ]
  },
  {
   "cell_type": "code",
   "execution_count": null,
   "id": "86ae43a7-bbe4-442f-9897-1834303d9012",
   "metadata": {},
   "outputs": [],
   "source": [
    "set_a = {1, 2, 3, 4}\n",
    "set_b = {3, 4, 5, 6}"
   ]
  },
  {
   "cell_type": "markdown",
   "id": "9af15adf-2856-43c6-b64d-e9f23baaf2b9",
   "metadata": {},
   "source": [
    "**Union**"
   ]
  },
  {
   "cell_type": "code",
   "execution_count": null,
   "id": "321942a6-ebe8-4d2a-b995-eed040db3c23",
   "metadata": {},
   "outputs": [],
   "source": [
    "print(\"set_a\",set_a)\n",
    "print(\"set_b\",set_b)\n",
    "\n",
    "print(\"Union:\", set_a | set_b)\n"
   ]
  },
  {
   "cell_type": "markdown",
   "id": "9627da6b-9a42-4c1b-9276-54228e570f04",
   "metadata": {},
   "source": [
    "**Intersection**"
   ]
  },
  {
   "cell_type": "code",
   "execution_count": null,
   "id": "3643b834-0dc8-4f38-ac1f-da17a66ef9a4",
   "metadata": {},
   "outputs": [],
   "source": [
    "print(\"set_a\",set_a)\n",
    "print(\"set_b\",set_b)\n",
    "\n",
    "print(\"Intersection:\", set_a & set_b)\n"
   ]
  },
  {
   "cell_type": "markdown",
   "id": "1b2d6a75-090c-49de-b2dd-9296c752871a",
   "metadata": {},
   "source": [
    "**Difference**"
   ]
  },
  {
   "cell_type": "code",
   "execution_count": null,
   "id": "ce5efbae-0a5a-46e3-8c23-b05ec4621f42",
   "metadata": {},
   "outputs": [],
   "source": [
    "print(\"set_a\",set_a)\n",
    "print(\"set_b\",set_b)\n",
    "\n",
    "# This returns elements that are in set_a but not in set_b\n",
    "# unique to set_a \n",
    "\n",
    "print(\"Difference (A - B):\", set_a - set_b) \n",
    "\n",
    "#This returns elements that are in set_b but not in set_a.\n",
    "# unique to set_b\n",
    "\n",
    "print(\"Difference (B - A):\", set_b - set_a)"
   ]
  },
  {
   "cell_type": "markdown",
   "id": "7e3894c8-8b9f-48c4-8943-b3caf2256f18",
   "metadata": {},
   "source": [
    "**Symmetric Difference**"
   ]
  },
  {
   "cell_type": "code",
   "execution_count": null,
   "id": "edbb7036-1d5c-4dcd-b183-21dca1b99287",
   "metadata": {},
   "outputs": [],
   "source": [
    "#The symmetric difference consists of the parts of A and B that do not overlap.\n",
    "print(\"Symmetric Difference:\", set_a ^ set_b)\n"
   ]
  },
  {
   "cell_type": "markdown",
   "id": "e76c7da7-6ab5-426b-b9e6-e44a65083ea0",
   "metadata": {},
   "source": [
    "###  Copying Sets\n",
    "Copying sets is essential when you want to work with a new set derived from an existing set without altering the original set. Without copying, any modifications to the new set would also affect the original set (if both sets reference the same memory location). By creating a copy, you ensure that the original data remains unchanged."
   ]
  },
  {
   "cell_type": "code",
   "execution_count": null,
   "id": "a139609c-c89a-48cb-ba29-e51f1d0439c1",
   "metadata": {},
   "outputs": [],
   "source": [
    "original_set = {1, 2, 3}\n",
    "copy_set = original_set  # No copying, both refer to the same set\n",
    "copy_set.add(4)\n",
    "\n",
    "print(\"Original Set:\", original_set)  # Output: {1, 2, 3, 4}\n",
    "print(\"copy Set:\", copy_set)           # Output: {1, 2, 3, 4}\n"
   ]
  },
  {
   "cell_type": "markdown",
   "id": "1b6b1190-c217-42e0-bb75-f9ff1ec53a33",
   "metadata": {},
   "source": [
    "- remove the element 4 from the copied set "
   ]
  },
  {
   "cell_type": "code",
   "execution_count": null,
   "id": "a5ee68ba-a1f5-4454-9dd1-c4ff91f13c8a",
   "metadata": {},
   "outputs": [],
   "source": [
    "print(\"Original Set:\", original_set)\n",
    "print(\"copy Set:\", copy_set)     \n",
    "copy_set.remove(4)\n",
    "print(\"modified_set :\",copy_set)\n"
   ]
  },
  {
   "cell_type": "markdown",
   "id": "473702f3-44d1-494b-9abd-6de66d890d4c",
   "metadata": {},
   "source": [
    "### Sets as Filters"
   ]
  },
  {
   "cell_type": "markdown",
   "id": "9891e852-75b9-467a-98bc-4a47054da38a",
   "metadata": {},
   "source": [
    "- Create an empty set named set_with_duplicates containing {1, 2, 2, 3, 4, 4, 5}: "
   ]
  },
  {
   "cell_type": "code",
   "execution_count": null,
   "id": "f3ff34bc-71e9-438d-a004-06083dfc6169",
   "metadata": {},
   "outputs": [],
   "source": [
    "set_with_duplicates = {1, 2, 2, 3, 4, 4, 5}\n",
    "print(\"Set removes duplicates and only let unique element:\", set_with_duplicates)"
   ]
  },
  {
   "cell_type": "markdown",
   "id": "94951184-f4df-4df5-89b2-f15588a6f949",
   "metadata": {},
   "source": [
    "---"
   ]
  },
  {
   "cell_type": "markdown",
   "id": "912a6be2-5048-4d2e-99bb-008158017766",
   "metadata": {},
   "source": [
    "##  Summary \n"
   ]
  },
  {
   "cell_type": "markdown",
   "id": "0404e8ae-c134-4b85-a9c3-f832f92232f0",
   "metadata": {},
   "source": [
    "#### Key Differences Between List, Tuple, and Set\n",
    "\n",
    "| **Feature**           | **List**                                   | **Tuple**                                 | **Set**                                   |\n",
    "|------------------------|--------------------------------------------|-------------------------------------------|-------------------------------------------|\n",
    "| **Definition**         | Ordered, mutable collection of elements.  | Ordered, immutable collection of elements.| Unordered, mutable collection of unique elements. |\n",
    "| **Syntax**             | Defined using square brackets `[]`.       | Defined using parentheses `()`.           | Defined using curly braces `{}` or the `set()` function. |\n",
    "| **Order**              | Maintains the order of elements.          | Maintains the order of elements.          | Does not maintain any specific order.     |\n",
    "| **Mutability**         | Mutable: Can add, remove, or modify elements. | Immutable: Elements cannot be changed after creation. | Mutable: Can add or remove elements, but not change individual values. |\n",
    "| **Duplicates**         | Allows duplicate elements.                | Allows duplicate elements.                | Does not allow duplicate elements.        |\n",
    "| **Performance**        | Slower than tuples due to mutability.      | Faster than lists for iterations due to immutability. | Faster lookups and membership tests due to hashing. |\n",
    "| **Use Case**           | Suitable for collections that may change. | Suitable for fixed collections of data.   | Suitable for collections of unique items. |\n",
    "| **Methods**            | Extensive: e.g., `append()`, `remove()`.  | Limited: e.g., `count()`, `index()`.      | Specialized: e.g., `add()`, `remove()`, `union()`, `intersection()`. |\n",
    "| **Homogeneity**        | Can store heterogeneous elements.          | Can also store heterogeneous elements.    | Can also store heterogeneous elements, but all elements must be hashable. |\n",
    "| **Example**            | `[1, 2, 3]`                               | `(1, 2, 3)`                               | `{1, 2, 3}` or `set([1, 2, 3])`           |\n"
   ]
  },
  {
   "cell_type": "markdown",
   "id": "0959d634-8c9b-4bf3-8b38-358ecaea7bbe",
   "metadata": {},
   "source": [
    "---\n",
    "## ENJOY !!"
   ]
  }
 ],
 "metadata": {
  "kernelspec": {
   "display_name": "Python [conda env:base] *",
   "language": "python",
   "name": "conda-base-py"
  },
  "language_info": {
   "codemirror_mode": {
    "name": "ipython",
    "version": 3
   },
   "file_extension": ".py",
   "mimetype": "text/x-python",
   "name": "python",
   "nbconvert_exporter": "python",
   "pygments_lexer": "ipython3",
   "version": "3.12.6"
  }
 },
 "nbformat": 4,
 "nbformat_minor": 5
}

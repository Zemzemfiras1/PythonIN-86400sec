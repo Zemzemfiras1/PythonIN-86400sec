{
 "cells": [
  {
   "cell_type": "markdown",
   "id": "46bdef0e-b6aa-4d3c-9455-b5c8f0a6236d",
   "metadata": {},
   "source": [
    "# Section 9 : Error Handling\n",
    "\n",
    "Error handling is a critical part of writing reliable Python code. In this course, we'll dive deep into Python's error-handling mechanism, starting from the basics and moving towards advanced topics like custom exceptions, context managers, and logging errors. By the end of this course, you'll have a solid understanding of how to manage errors effectively in your Python programs."
   ]
  },
  {
   "cell_type": "markdown",
   "id": "bcbdc033-ab0d-4eac-9493-b5a27e84bb78",
   "metadata": {},
   "source": [
    "# Basics of Error Handling\n",
    "\n",
    "**What are Errors and Exceptions?** \n",
    "\n",
    "- **Errors:** Critical problems that are typically not recoverable (e.g., syntax errors, system-level issues).\n",
    "  \n",
    "- **Exceptions:** Conditions that arise during the execution of a program but can be handled and recovered from."
   ]
  },
  {
   "cell_type": "markdown",
   "id": "df5a3a64-1053-44d5-9c3b-f96379e04572",
   "metadata": {},
   "source": [
    "# Try-Except Block\n",
    "The try-except block is the fundamental building block of error handling in Python. It allows you to catch and handle exceptions that occur during the execution of a program. By using try-except, you can prevent your program from crashing and provide meaningful responses to errors.\n",
    "\n",
    "**Why Use try-except?**\n",
    "\n",
    "- Prevent your program from crashing due to runtime errors.\n",
    "- Gracefully handle unexpected situations and provide meaningful error messages.\n",
    "- Allow execution of alternative logic when errors occur.\n",
    "\n",
    "**Syntax:**\n",
    "```python\n",
    "try:\n",
    "    # Code that might raise an exception\n",
    "except ExceptionType:\n",
    "    # Code to handle the exception\n",
    "```"
   ]
  },
  {
   "cell_type": "markdown",
   "id": "119f831e-76d0-4d36-b9a7-b2a4f2e9cdb7",
   "metadata": {},
   "source": [
    "Lets try to print this code : \n"
   ]
  },
  {
   "cell_type": "code",
   "execution_count": null,
   "id": "b243332e-5bf7-4590-a980-caac05735d1b",
   "metadata": {},
   "outputs": [],
   "source": [
    "print(10 / 0)\n"
   ]
  },
  {
   "cell_type": "markdown",
   "id": "9cd12fb7-d3ab-45b0-87a3-73a5f8ce5fd3",
   "metadata": {},
   "source": [
    "By using try-except, you can prevent your program from crashing and provide meaningful responses to errors."
   ]
  },
  {
   "cell_type": "code",
   "execution_count": null,
   "id": "d8859557-6737-4602-b5a3-1bf34ae4e459",
   "metadata": {},
   "outputs": [],
   "source": [
    "try:\n",
    "    result = 10 / 0\n",
    "except:\n",
    "    print(\"An error occurred.\") # if it causes an error print \"An error occurred.\"\n"
   ]
  },
  {
   "cell_type": "markdown",
   "id": "916913ec-a40c-41f3-bc41-6b113332cbdb",
   "metadata": {},
   "source": [
    "## Using the Exception Object\n",
    "To access details about the exception, use the as keyword."
   ]
  },
  {
   "cell_type": "code",
   "execution_count": null,
   "id": "5d2064ca-9362-4309-bb13-03c9ee7c302b",
   "metadata": {},
   "outputs": [],
   "source": [
    "try:\n",
    "    x = 10 / 0                    # will crach and provide an error\n",
    "except ZeroDivisionError as e:    # if it is an error print details about it without crashing.\n",
    "    print(f\"Error occurred: {e}\")"
   ]
  },
  {
   "cell_type": "markdown",
   "id": "861a4d6b-ba44-43d4-ac2d-5e2978b7ef8e",
   "metadata": {},
   "source": [
    "## Multiple except Blocks\n",
    "You can use multiple except blocks to handle different types of exceptions.\n"
   ]
  },
  {
   "cell_type": "code",
   "execution_count": null,
   "id": "e70a90bc-7364-4601-9fa6-07409d4f6d26",
   "metadata": {},
   "outputs": [],
   "source": [
    "\n",
    "try:\n",
    "    x = int(\"hello\")  # Will raise a ValueError\n",
    "except ZeroDivisionError:\n",
    "    print(\"Division by zero error\")\n",
    "except ValueError:\n",
    "    print(\"Invalid input: Could not convert to an integer\")\n"
   ]
  },
  {
   "cell_type": "markdown",
   "id": "80587a8c-fce0-481a-b0de-fafcb7e56a80",
   "metadata": {},
   "source": [
    "## Generic Exception Handling\n",
    "\n",
    "To handle any exception, use except Exception. While it's better to catch specific exceptions, this can be useful for debugging.\n",
    "\n",
    "**Syntax:**\n",
    "```python\n",
    "try:\n",
    "      # Code that might raise an exception\n",
    "except Exception as e:\n",
    "    print(f\"An unexpected error occurred: {e}\")\n",
    "```"
   ]
  },
  {
   "cell_type": "markdown",
   "id": "473fe749-2730-446e-9f1d-775e1adac979",
   "metadata": {},
   "source": [
    "**Example 1**"
   ]
  },
  {
   "cell_type": "code",
   "execution_count": null,
   "id": "de39da23-e80a-4034-8504-642d75b15f6c",
   "metadata": {},
   "outputs": [],
   "source": [
    "try:\n",
    "    result = 10 / \"a\"  # TypeError\n",
    "except Exception as e:\n",
    "    print(f\"An unexpected error occurred: {e}\")\n"
   ]
  },
  {
   "cell_type": "markdown",
   "id": "6d692165-bacd-4d74-943c-9782cea7773e",
   "metadata": {},
   "source": [
    "**Example 2: Reading a File Safely**"
   ]
  },
  {
   "cell_type": "code",
   "execution_count": null,
   "id": "b5584999-41cf-4572-901a-37515eaa3146",
   "metadata": {},
   "outputs": [],
   "source": [
    "try:\n",
    "    with open(\"file.txt\", \"r\") as file:\n",
    "        data = file.read()\n",
    "except FileNotFoundError:\n",
    "    print(\"Error: The file does not exist.\")\n",
    "except PermissionError:\n",
    "    print(\"Error: You do not have permission to access this file.\")\n"
   ]
  },
  {
   "cell_type": "markdown",
   "id": "1f5e18b4-21f6-4c20-82af-415cc23eae43",
   "metadata": {},
   "source": [
    "or making it more general "
   ]
  },
  {
   "cell_type": "code",
   "execution_count": null,
   "id": "5101b894-6ec6-4723-a102-da117ddb9dd5",
   "metadata": {},
   "outputs": [],
   "source": [
    "try:\n",
    "    with open(\"file.txt\", \"r\") as file:\n",
    "        data = file.read()\n",
    "except Exception as e:\n",
    "    print(f\"Error: {e}\")"
   ]
  },
  {
   "cell_type": "markdown",
   "id": "36d7ced1-c424-4418-83be-0e427abd87a8",
   "metadata": {},
   "source": [
    "# Else and Finally\n",
    "The **else** and **finally** clauses add more control and flexibility to Python's try-except mechanism, allowing you to handle code execution in different scenarios, such as when no exception occurs or when cleanup operations are needed."
   ]
  },
  {
   "cell_type": "markdown",
   "id": "7abfa589-bcb8-446a-a636-cf15b1568a42",
   "metadata": {},
   "source": [
    "## Else Clause\n",
    "The else block is executed only if no exception occurs in the try block. This is useful for separating error handling (except) from normal execution when everything works as expected.\n",
    "\n",
    "- **If an exception occurs**: The else block is skipped.\n",
    "- **If no exception occurs**: The else block is executed.\n",
    "\n",
    "**Syntax**\n",
    "```python\n",
    "try:\n",
    "    # Code that might raise an exception\n",
    "except ExceptionType:\n",
    "    # Code to handle the exception\n",
    "else:\n",
    "    # Code to execute if no exception occurred\n",
    "```"
   ]
  },
  {
   "cell_type": "code",
   "execution_count": null,
   "id": "9a933a0c-e1dd-433a-80e0-1b96034b3a63",
   "metadata": {},
   "outputs": [],
   "source": [
    "try:\n",
    "    result = 10 / 2 # No exception occurs\n",
    "except ZeroDivisionError:\n",
    "    print(\"Error: Division by zero.\")\n",
    "else:\n",
    "    print(f\"Division successful, result is {result}\")\n"
   ]
  },
  {
   "cell_type": "markdown",
   "id": "4419c665-94d9-469d-8383-22b59d244dab",
   "metadata": {},
   "source": [
    "## finally Clause\n",
    "The finally block is executed no matter what, whether an exception is raised or not. This is useful for cleanup actions, like closing a file or releasing a resource.\n",
    "\n",
    "**Syntax**\n",
    "```python\n",
    "try:\n",
    "    # Code that might raise an exception\n",
    "except ExceptionType:\n",
    "    # Code to handle the exception\n",
    "finally:\n",
    "    # Code to execute regardless of what happens\n",
    "```"
   ]
  },
  {
   "cell_type": "markdown",
   "id": "99cc6845-1b21-4bcb-9371-7dd9e6cf637c",
   "metadata": {},
   "source": [
    "**Example**"
   ]
  },
  {
   "cell_type": "code",
   "execution_count": null,
   "id": "113e2bbc-c710-467b-aff5-0b96692558cd",
   "metadata": {},
   "outputs": [],
   "source": [
    "try:\n",
    "    x = int(input(\"Enter the numerator: \"))\n",
    "    y = int(input(\"Enter the denominator: \"))\n",
    "    div = x / y  # Perform division\n",
    "except ValueError as e:\n",
    "    print(f\"Error: Invalid input. Please enter integers only. {e}\")\n",
    "except ZeroDivisionError as e:\n",
    "    print(f\"Error: Cannot divide by zero. {e}\")\n",
    "else:\n",
    "    print(f\"Division was successful: {x}/{y} = {div}\")\n",
    "finally:\n",
    "    print(\"This will always execute.\")\n"
   ]
  },
  {
   "cell_type": "markdown",
   "id": "f48a6ef1-4797-4a51-b384-845023c8b57e",
   "metadata": {
    "jp-MarkdownHeadingCollapsed": true
   },
   "source": [
    "# raise Statement in Python\n",
    "The raise statement in Python is used to explicitly raise an exception. It allows you to signal that something unexpected has occurred and gives you control over the error being raised.\n",
    "\n",
    "- **ExceptionType:** The type of exception you want to raise (e.g., ValueError, TypeError, KeyError, or a custom exception).\n",
    "- **Error message:** An optional message providing more details about the error.\n",
    "\n",
    "\n",
    "\n",
    "**Syntax**\n",
    "```python\n",
    "raise ExceptionType(\"Error message\")\n",
    "```\n"
   ]
  },
  {
   "cell_type": "markdown",
   "id": "0fb3d2f7-f6d3-470a-b080-4d7633776f0a",
   "metadata": {},
   "source": [
    "**Example 1 : Input Validation**"
   ]
  },
  {
   "cell_type": "code",
   "execution_count": null,
   "id": "4ac13a2b-9293-459f-872c-cb612ee34f99",
   "metadata": {},
   "outputs": [],
   "source": [
    "def validate_age(age):\n",
    "    if age < 0:\n",
    "        raise ValueError(\"Age cannot be negative\")\n",
    "    print(f\"Valid age: {age}\")\n"
   ]
  },
  {
   "cell_type": "code",
   "execution_count": null,
   "id": "715a2026-04e5-4ce3-9c3d-113cf4b9e7a8",
   "metadata": {},
   "outputs": [],
   "source": [
    "# Test the function\n",
    "try:\n",
    "    validate_age(-5)\n",
    "except ValueError as e:\n",
    "    print(f\"Error: {e}\")\n"
   ]
  },
  {
   "cell_type": "markdown",
   "id": "f87c70d7-ba28-4cf2-8835-aac4c28a4688",
   "metadata": {},
   "source": [
    "**Example 2: Raising TypeError**"
   ]
  },
  {
   "cell_type": "code",
   "execution_count": null,
   "id": "35ebf669-501f-4b01-8680-aaa908d96804",
   "metadata": {},
   "outputs": [],
   "source": [
    "def add_numbers(a, b):\n",
    "    if not isinstance(a, (int, float)) or not isinstance(b, (int, float)):\n",
    "        raise TypeError(\"Both arguments must be numbers\")\n",
    "    return a + b\n",
    "\n",
    "# Test the function\n",
    "try:\n",
    "    result = add_numbers(10, \"20\")\n",
    "except TypeError as e:\n",
    "    print(f\"Error: {e}\")\n"
   ]
  },
  {
   "cell_type": "markdown",
   "id": "d4b3dd5e-3ecd-495e-92e3-ece351778f5a",
   "metadata": {},
   "source": [
    "**Reraising an Exception**\n",
    "\n",
    "If you want to re-raise an exception that you've caught, you can use raise without specifying an exception. This is useful for adding context to an error before passing it on.\n",
    "\n"
   ]
  },
  {
   "cell_type": "code",
   "execution_count": null,
   "id": "34d153bf-ba05-4958-afe3-bf4d2432b949",
   "metadata": {},
   "outputs": [],
   "source": [
    "try:\n",
    "    x = 10 / 0\n",
    "except ZeroDivisionError:\n",
    "    print(\"Handling ZeroDivisionError\")\n",
    "    raise"
   ]
  },
  {
   "cell_type": "markdown",
   "id": "fea677af-9018-4544-98a4-c119941879cc",
   "metadata": {},
   "source": [
    "**Using raise with a Cause**\n",
    "    \n",
    "The raise statement can be used with a from keyword to link a new exception to an original one. This is helpful for debugging complex issues."
   ]
  },
  {
   "cell_type": "code",
   "execution_count": null,
   "id": "49d71343-8142-4192-ab56-a1535e182f1d",
   "metadata": {},
   "outputs": [],
   "source": [
    "try:\n",
    "    int(\"abc\")  # Raises ValueError\n",
    "except ValueError as e:\n",
    "    raise TypeError(\"Conversion error occurred\") from e\n"
   ]
  },
  {
   "cell_type": "markdown",
   "id": "c4a7e7a2-3ac9-4e92-be53-d9bc58d83248",
   "metadata": {},
   "source": [
    "# Using Assert for Debugging\n",
    "The assert statement is a debugging tool in Python used to test assumptions in your code. It helps ensure that a condition is true at a specific point in the program. If the condition evaluates to False, assert raises an AssertionError and optionally displays an error message.\n",
    "\n",
    "**Syntax**\n",
    "```python\n",
    "    assert condition, \"Error message (optional)\"\n",
    "```\n",
    "\n",
    "- condition: A boolean expression that you expect to be True.\n",
    "- \"Error message\": Optional; describes why the assertion failed.\n",
    "\n",
    "If the condition evaluates to False:\n",
    "   - An AssertionError is raised.\n",
    "   - The optional error message (if provided) is displayed.\n",
    "\n",
    "**When to Use assert**\n",
    "- To test assumptions in your code while developing or debugging.\n",
    "- To ensure inputs to a function meet certain criteria.\n",
    "- To check the state of variables at critical points in your code.\n"
   ]
  },
  {
   "cell_type": "markdown",
   "id": "8c522d72-afcc-4e18-bc77-80407aebf9b3",
   "metadata": {},
   "source": [
    "**Example** "
   ]
  },
  {
   "cell_type": "code",
   "execution_count": null,
   "id": "9ffdb449-3ace-4296-a519-57a642605d77",
   "metadata": {},
   "outputs": [],
   "source": [
    "x = 10\n",
    "assert x > 0, \"x must be positive\"\n",
    "print(\"Assertion passed!\")\n"
   ]
  },
  {
   "cell_type": "markdown",
   "id": "a1682afd-7e09-4e24-91b9-a51af3888ad7",
   "metadata": {},
   "source": [
    "Try a negative x "
   ]
  },
  {
   "cell_type": "code",
   "execution_count": null,
   "id": "0992a1e7-f0ce-49e7-a3df-f245a178622f",
   "metadata": {},
   "outputs": [],
   "source": [
    "x = -5\n",
    "assert x > 0, \"x must be positive\"\n",
    "print(\"Assertion passed!\")\n"
   ]
  },
  {
   "cell_type": "markdown",
   "id": "47d18d84-879d-4aa7-af5b-5e7e0aa51925",
   "metadata": {},
   "source": [
    "**Example 2 :**"
   ]
  },
  {
   "cell_type": "code",
   "execution_count": null,
   "id": "12dee648-08f4-45ea-b0cd-47b328082f76",
   "metadata": {},
   "outputs": [],
   "source": [
    "assert 2 + 2 == 4, \"Math error\"\n",
    "assert 2 + 2 == 5, \"Math error\"  # This will raise AssertionError\n"
   ]
  },
  {
   "cell_type": "markdown",
   "id": "b1dbee37-3b4a-43af-94f3-75c1bf57961a",
   "metadata": {},
   "source": [
    "**Validating Function Input**"
   ]
  },
  {
   "cell_type": "code",
   "execution_count": null,
   "id": "14076d92-9376-4707-8e6b-97fcbfa88f78",
   "metadata": {},
   "outputs": [],
   "source": [
    "def divide(a, b):\n",
    "    assert b != 0, \"Denominator cannot be zero\"\n",
    "    return a / b\n",
    "\n",
    "# Test the function\n",
    "print(divide(10, 2))  # Valid\n",
    "print(divide(10, 0))  # Raises AssertionError\n"
   ]
  },
  {
   "cell_type": "markdown",
   "id": "2bdc520a-c2cf-433a-a6d6-0a6d9798ebc6",
   "metadata": {},
   "source": [
    "**Example 3 : Checking Data Integrity**"
   ]
  },
  {
   "cell_type": "code",
   "execution_count": null,
   "id": "46d4a38a-2a1c-42ea-9ea1-d19e44de6f0b",
   "metadata": {},
   "outputs": [],
   "source": [
    "data = [1, 2, 3, 4]\n",
    "assert all(isinstance(x, int) for x in data), \"All elements in the list must be integers\"\n",
    "print(\"Data is valid!\")\n"
   ]
  },
  {
   "cell_type": "markdown",
   "id": "fedd452b-c74f-4b5e-9a6e-e5857a02607a",
   "metadata": {},
   "source": [
    "# Handling Signals and External Errors\n",
    "Signals are a mechanism used by operating systems to notify a process of an event. Python's signal module allows you to handle these signals gracefully.\n",
    "\n",
    "**Common Use Cases for Signals**\n",
    "- Handling Ctrl+C (keyboard interrupt) gracefully.\n",
    "- Responding to timeouts or resource limits.\n",
    "- Coordinating between processes in multiprocessing or parallel programs.\n",
    "Note : This part will be developped in another part."
   ]
  },
  {
   "cell_type": "markdown",
   "id": "2e23cf59-a691-4b43-9a58-e41aa8eccd7e",
   "metadata": {},
   "source": [
    "---"
   ]
  },
  {
   "cell_type": "markdown",
   "id": "4c2ec5b9-3f53-4ff6-8769-8128dd9c0476",
   "metadata": {},
   "source": [
    "## ENJOY !! "
   ]
  }
 ],
 "metadata": {
  "kernelspec": {
   "display_name": "Python [conda env:base] *",
   "language": "python",
   "name": "conda-base-py"
  },
  "language_info": {
   "codemirror_mode": {
    "name": "ipython",
    "version": 3
   },
   "file_extension": ".py",
   "mimetype": "text/x-python",
   "name": "python",
   "nbconvert_exporter": "python",
   "pygments_lexer": "ipython3",
   "version": "3.12.6"
  }
 },
 "nbformat": 4,
 "nbformat_minor": 5
}

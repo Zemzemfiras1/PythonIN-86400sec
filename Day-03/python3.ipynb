{
 "cells": [
  {
   "cell_type": "markdown",
   "id": "d8e80e01-89dc-4f0a-9acd-4993418004c3",
   "metadata": {},
   "source": [
    "## Section 6 : Dictionaries\n",
    "A Python dictionary is an unordered collection of items. It is a collection of key-value pairs, where each key is unique, and the value can be any Python object.\n",
    "\n",
    "```\n",
    "my_dict = {key1: value1, key2: value2, key3: value3 ... }\n",
    "\n",
    "or\n",
    "\n",
    "my_dict = dict(key1=value1, key2=value2, key3=value3 ...)\n",
    "```\n"
   ]
  },
  {
   "cell_type": "markdown",
   "id": "db8b8e5e-a71e-4fcf-80e4-f99b55288eed",
   "metadata": {},
   "source": [
    "### Creating a Dictionary\n",
    "To create a dictionary, you can use curly braces {} or the dict() constructor."
   ]
  },
  {
   "cell_type": "code",
   "execution_count": null,
   "id": "52bb1c56-2273-4448-a078-a02df8a70bb1",
   "metadata": {},
   "outputs": [],
   "source": [
    "my_dict_exp1 = {'name': 'Alice', 'age': 25, 'city': 'New York'}\n",
    "print(my_dict_exp1)\n"
   ]
  },
  {
   "cell_type": "code",
   "execution_count": null,
   "id": "fac69ee8-7269-4f46-bd90-d2b989384b1f",
   "metadata": {},
   "outputs": [],
   "source": [
    "my_dict_exp2 = dict(name='Firas', work='PhD Student', city='Tunisia')\n",
    "print(my_dict_exp2)\n"
   ]
  },
  {
   "cell_type": "markdown",
   "id": "e31ba632-6951-4010-9ac2-18039896831e",
   "metadata": {},
   "source": [
    "### Accessing Values by Key\n",
    "**using square brackets []**\n",
    "\n",
    "You can access the value associated with a specific key by using square brackets []."
   ]
  },
  {
   "cell_type": "code",
   "execution_count": null,
   "id": "da201d1e-7541-43c4-95d6-182af74f52d1",
   "metadata": {},
   "outputs": [],
   "source": [
    "print(my_dict_exp1['name'])  \n"
   ]
  },
  {
   "cell_type": "markdown",
   "id": "267379cb-8d1c-4e62-97a6-e53d71dcd02a",
   "metadata": {},
   "source": [
    "**Using the get() Method**\n",
    "\n",
    "The get() method returns the value for the given key if it exists, otherwise, it returns None (or a default value if provided).\n",
    "\n"
   ]
  },
  {
   "cell_type": "code",
   "execution_count": null,
   "id": "055a66a6-86e7-45c9-8358-0151e4db49fd",
   "metadata": {},
   "outputs": [],
   "source": [
    "# get the value assigned to the key age in my_dict_exp1\n",
    "\n",
    "print(my_dict_exp1.get('age')) "
   ]
  },
  {
   "cell_type": "code",
   "execution_count": null,
   "id": "4fdc2863-964e-4c48-8587-dd5de1260469",
   "metadata": {},
   "outputs": [],
   "source": [
    "# get the value assigned to the key gender in my_dict_exp1\n",
    "\n",
    "print(my_dict_exp1.get('gender')) "
   ]
  },
  {
   "cell_type": "code",
   "execution_count": null,
   "id": "4d3c7fa7-abd6-463a-b075-c30d5215bfe3",
   "metadata": {},
   "outputs": [],
   "source": [
    "# get the value assigned to the key age then gender in my_dict_exp1\n",
    "# if the value do not exist return a text 'notfound ha ha ha'\n",
    "\n",
    "print(my_dict_exp1.get('age','not found ha ha ha')) \n",
    "print(my_dict_exp1.get('gender','not found ha ha ha')) "
   ]
  },
  {
   "cell_type": "markdown",
   "id": "61b08651-bec8-451a-b7b2-53914ff09caa",
   "metadata": {},
   "source": [
    "**Accessing Keys**\n",
    "keys() - Returns a view of all keys in the dictionary."
   ]
  },
  {
   "cell_type": "code",
   "execution_count": null,
   "id": "97770561-60f9-4132-b05c-39a5de5ab18b",
   "metadata": {},
   "outputs": [],
   "source": [
    "print(my_dict_exp1.keys())    \n"
   ]
  },
  {
   "cell_type": "markdown",
   "id": "4e7c5558-a886-4331-9d17-45004d26ae2d",
   "metadata": {},
   "source": [
    "**Accessing Values**\n",
    "values() - Returns a view of all values in the dictionary."
   ]
  },
  {
   "cell_type": "code",
   "execution_count": null,
   "id": "919220a7-599e-4e97-b853-e3762ad1ebae",
   "metadata": {},
   "outputs": [],
   "source": [
    "print(my_dict_exp1.values()) "
   ]
  },
  {
   "cell_type": "markdown",
   "id": "1df984b5-a181-4c1f-91b1-aa6e8098ba4e",
   "metadata": {},
   "source": [
    "**Accessing Items**\n",
    "keys() - Returns a view of all keys in the dictionary."
   ]
  },
  {
   "cell_type": "code",
   "execution_count": null,
   "id": "c59e6634-b8d8-44d7-8b03-d37edc3a39c4",
   "metadata": {},
   "outputs": [],
   "source": [
    "print(my_dict_exp1.items())"
   ]
  },
  {
   "cell_type": "markdown",
   "id": "d6b882bb-8af9-46c2-ade1-d3caf61e70fc",
   "metadata": {},
   "source": [
    "### Modifying Dictionaries\n",
    "**Adding Items**\n",
    "\n",
    "You can add new key-value pairs by simply assigning a value to a new key."
   ]
  },
  {
   "cell_type": "code",
   "execution_count": null,
   "id": "b333d8c1-7936-4135-a1a2-9f7e5bc3fce1",
   "metadata": {},
   "outputs": [],
   "source": [
    "my_dict_exp2['email'] = 'zemzemfiras@GMail.com'\n",
    "print(my_dict_exp2)"
   ]
  },
  {
   "cell_type": "markdown",
   "id": "f7ebd68c-214c-492c-acac-f5292c6f43d1",
   "metadata": {},
   "source": [
    "**Updating Items**\n",
    "\n",
    "You can change the value of an existing key by assigning a new value."
   ]
  },
  {
   "cell_type": "code",
   "execution_count": null,
   "id": "ebaa82fd-fcf9-4563-992a-101ed1140ce4",
   "metadata": {},
   "outputs": [],
   "source": [
    "my_dict_exp2['email'] = 'zemzemfiras@gmail.com'\n",
    "print(my_dict_exp2)"
   ]
  },
  {
   "cell_type": "markdown",
   "id": "a6bf8e50-9290-46dc-87d7-c6c489abcc96",
   "metadata": {},
   "source": [
    "---"
   ]
  },
  {
   "cell_type": "markdown",
   "id": "430cd43c-75a9-4576-b197-5efd546e7e07",
   "metadata": {},
   "source": [
    "Now we are only using this exmaple "
   ]
  },
  {
   "cell_type": "code",
   "execution_count": null,
   "id": "bb45daa8-d150-4f53-81ad-b8a8c1a82353",
   "metadata": {},
   "outputs": [],
   "source": [
    "my_dict_exp2 = dict(name='Firas', work='PhD Student', city='Tunisia', email='zemzemfiras@gmail.com')\n",
    "print(my_dict_exp2)"
   ]
  },
  {
   "cell_type": "markdown",
   "id": "8e764061-2226-41fd-bf92-1e6a9d47e547",
   "metadata": {},
   "source": [
    "**Removing Items**\n",
    "\n",
    "Use the del keyword to remove a key-value pair."
   ]
  },
  {
   "cell_type": "code",
   "execution_count": null,
   "id": "0844ff2f-8748-48ab-95da-482dc4c2a2f9",
   "metadata": {},
   "outputs": [],
   "source": [
    "del my_dict_exp2['city'] \n",
    "print(my_dict_exp2)\n"
   ]
  },
  {
   "cell_type": "markdown",
   "id": "f116a877-afbe-4b89-b550-50e4ae8050dd",
   "metadata": {},
   "source": [
    "use the pop() method to remove and return a value"
   ]
  },
  {
   "cell_type": "code",
   "execution_count": null,
   "id": "70c9a947-049e-4a47-9d39-280de7a7ee4a",
   "metadata": {},
   "outputs": [],
   "source": [
    "removed_value = my_dict_exp2.pop('name')  # Removes 'name' and returns 'Alice'\n",
    "print(\"removed value is :\",removed_value)\n"
   ]
  },
  {
   "cell_type": "markdown",
   "id": "2483728a-990c-4e39-9e54-61a4857f7c00",
   "metadata": {},
   "source": [
    "**Clearing Dictionaries**"
   ]
  },
  {
   "cell_type": "code",
   "execution_count": null,
   "id": "c53c19cc-c5f2-4d2f-ab28-41bdad56fab2",
   "metadata": {},
   "outputs": [],
   "source": [
    "my_dict_exp1.clear()  # The dictionary is now empty\n",
    "print(my_dict_exp1)"
   ]
  },
  {
   "cell_type": "markdown",
   "id": "3d6648c7-81fb-4db4-aec0-516bb4b100fa",
   "metadata": {},
   "source": [
    "### Nested Dictionaries\n",
    "A nested dictionary is simply a dictionary that contains other dictionaries as values. This allows for hierarchical data representation, making it useful for complex data structures where values themselves are dictionaries or require grouping into logical structures.\n",
    "\n",
    "**Importance of Nested Dictionaries:**\n",
    "\n",
    "- **Hierarchical Data Representation:** They allow the representation of complex data structures, such as organizational structures, configuration settings, and nested objects in APIs.\n",
    "\n",
    "- **Grouping and Categorizing:** Nested dictionaries help to group related data together, which makes it easier to work with and access.\n",
    "\n",
    "- **Improved Readability:** They make code more readable and structured, especially when dealing with multidimensional data, such as JSON-like objects.\n",
    "\n",
    "- **Efficient Storage and Access:** They help in organizing data efficiently, where each dictionary within the main dictionary can hold its own set of key-value pairs."
   ]
  },
  {
   "cell_type": "markdown",
   "id": "d39fb245-6293-4d35-bfeb-7721cea9deee",
   "metadata": {},
   "source": [
    "**Basic Example of a Nested Dictionary**\n",
    "\n",
    "A simple case where one dictionary contains another dictionary as a value.\n",
    "\n",
    "Inside the nested dictionary 'address', we have keys like 'street', 'city', and 'zip'."
   ]
  },
  {
   "cell_type": "code",
   "execution_count": null,
   "id": "7fffd0f7-a0d8-4d6c-98f0-b4898ceb5cde",
   "metadata": {},
   "outputs": [],
   "source": [
    "person = {\n",
    "    'name': 'Alice',\n",
    "    'age': 30,\n",
    "    'address': {\n",
    "        'street': '123 Main St',\n",
    "        'city': 'Wonderland',\n",
    "        'zip': '12345'\n",
    "    }\n",
    "}\n",
    "\n",
    "# Accessing nested dictionary values\n",
    "print(person['address']['city'])  # Output: Wonderland\n"
   ]
  },
  {
   "cell_type": "markdown",
   "id": "b9f0bda4-e227-4bb9-a029-411fa514f47e",
   "metadata": {},
   "source": [
    "**Creating Databases with Nested Dictionaries**\n",
    "\n",
    " an example of storing data about multiple students, where each student has their own dictionary."
   ]
  },
  {
   "cell_type": "code",
   "execution_count": null,
   "id": "f7316b1b-0ef1-4708-b2d5-493946d8bf69",
   "metadata": {},
   "outputs": [],
   "source": [
    "students = {\n",
    "    'student1': {\n",
    "        'name': 'Alice',\n",
    "        'age': 20,\n",
    "        'grades': {\n",
    "            'math': 90,\n",
    "            'english': 85\n",
    "        }\n",
    "    },\n",
    "    'student2': {\n",
    "        'name': 'Bob',\n",
    "        'age': 22,\n",
    "        'grades': {\n",
    "            'math': 80,\n",
    "            'english': 88\n",
    "        }\n",
    "    }\n",
    "}\n",
    "print(students)"
   ]
  },
  {
   "cell_type": "markdown",
   "id": "0d68aa2d-b357-4ac2-a204-cc9fd92782f8",
   "metadata": {},
   "source": [
    "Accessing a nested Dictionary"
   ]
  },
  {
   "cell_type": "code",
   "execution_count": null,
   "id": "09505e3c-3224-40ab-8023-825c38b6a6d5",
   "metadata": {},
   "outputs": [],
   "source": [
    "# print Student 1 nested Dict\n",
    "\n",
    "print(students['student1'])"
   ]
  },
  {
   "cell_type": "code",
   "execution_count": null,
   "id": "98094649-3ea8-468b-b7a2-079784806d3d",
   "metadata": {},
   "outputs": [],
   "source": [
    "# print Student 2 nested Dict\n",
    "\n",
    "print(students['student2'])"
   ]
  },
  {
   "cell_type": "markdown",
   "id": "250dedf2-b249-4a19-92b2-1a54ab2f0868",
   "metadata": {},
   "source": [
    "Accessing a value in nested dictionary "
   ]
  },
  {
   "cell_type": "code",
   "execution_count": null,
   "id": "83ed28b7-69ba-4614-897f-20b4ab39049e",
   "metadata": {},
   "outputs": [],
   "source": [
    "# Accessing Bob's age\n",
    "print(students['student2']['age'])  \n"
   ]
  },
  {
   "cell_type": "code",
   "execution_count": null,
   "id": "6fbff37c-2f5b-4776-b81d-54fbcab2d289",
   "metadata": {},
   "outputs": [],
   "source": [
    "# Accessing the grade of Alice (student1) in Math\n",
    "print(students['student1']['grades']['math']) \n",
    "\n"
   ]
  },
  {
   "cell_type": "markdown",
   "id": "47c6c911-c739-4d97-bef9-88616ce9a5b4",
   "metadata": {},
   "source": [
    "**Configurations with Nested Dictionaries**\n",
    "\n",
    "Nested dictionaries are often used to represent complex configuration files, like settings for a web application."
   ]
  },
  {
   "cell_type": "code",
   "execution_count": null,
   "id": "70c362d8-9673-43a2-9f32-7711e0f2ad2a",
   "metadata": {},
   "outputs": [],
   "source": [
    "config = {\n",
    "    'database': {\n",
    "        'host': 'localhost',\n",
    "        'port': 5432,\n",
    "        'user': 'admin',\n",
    "        'password': 'securepass'\n",
    "    },\n",
    "    'logging': {\n",
    "        'level': 'DEBUG',\n",
    "        'log_file': '/var/log/app.log'\n",
    "    }\n",
    "}\n",
    "print(config)"
   ]
  },
  {
   "cell_type": "markdown",
   "id": "34c5f7e3-7335-4a1e-8e1f-a9bcee5ae322",
   "metadata": {},
   "source": [
    "**Species Characteristics and Habitats**"
   ]
  },
  {
   "cell_type": "code",
   "execution_count": null,
   "id": "c5a71d12-7381-42db-b80d-29e35d1f9bfe",
   "metadata": {},
   "outputs": [],
   "source": [
    "# Accessing database configurations\n",
    "\n",
    "print(config['database']['host'])  # Output: localhost\n",
    "print(config['logging']['log_file'])  # Output: /var/log/app.log\n"
   ]
  },
  {
   "cell_type": "code",
   "execution_count": null,
   "id": "b1a79b47-2390-47c9-b024-ff342654af61",
   "metadata": {},
   "outputs": [],
   "source": [
    "species_data = {\n",
    "    'lion': {\n",
    "        'classification': 'Mammal',\n",
    "        'habitat': {\n",
    "            'continent': 'Africa',\n",
    "            'environment': 'Savanna',\n",
    "            'climate': 'Tropical'\n",
    "        },\n",
    "        'diet': 'Carnivore',\n",
    "        'conservation_status': 'Vulnerable'\n",
    "    },\n",
    "    'elephant': {\n",
    "        'classification': 'Mammal',\n",
    "        'habitat': {\n",
    "            'continent': 'Africa',\n",
    "            'environment': 'Grasslands',\n",
    "            'climate': 'Tropical'\n",
    "        },\n",
    "        'diet': 'Herbivore',\n",
    "        'conservation_status': 'Endangered'\n",
    "    },\n",
    "    'penguin': {\n",
    "        'classification': 'Bird',\n",
    "        'habitat': {\n",
    "            'continent': 'Antarctica',\n",
    "            'environment': 'Coastal',\n",
    "            'climate': 'Polar'\n",
    "        },\n",
    "        'diet': 'Carnivore',\n",
    "        'conservation_status': 'Least Concern'\n",
    "    },\n",
    "    'kangaroo': {\n",
    "        'classification': 'Mammal',\n",
    "        'habitat': {\n",
    "            'continent': 'Australia',\n",
    "            'environment': 'Outback',\n",
    "            'climate': 'Arid'\n",
    "        },\n",
    "        'diet': 'Herbivore',\n",
    "        'conservation_status': 'Near Threatened'\n",
    "    }\n",
    "}\n",
    "\n",
    "\n",
    "print(species_data)"
   ]
  },
  {
   "cell_type": "code",
   "execution_count": null,
   "id": "cd06fd5a-717b-4879-bd5e-2b406cb608c6",
   "metadata": {},
   "outputs": [],
   "source": [
    "# Accessing specific information:\n",
    "# 1. Access the habitat of the elephant\n",
    "elephant_habitat = species_data['elephant']['habitat']\n",
    "print(f\"Elephant Habitat: {elephant_habitat}\")\n",
    "# Output: Elephant Habitat: {'continent': 'Africa', 'environment': 'Grasslands', 'climate': 'Tropical'}\n",
    "\n",
    "# 2. Access the conservation status of the lion\n",
    "lion_status = species_data['lion']['conservation_status']\n",
    "print(f\"Lion Conservation Status: {lion_status}\")\n",
    "# Output: Lion Conservation Status: Vulnerable\n",
    "\n",
    "# 3. Access the diet of the penguin\n",
    "penguin_diet = species_data['penguin']['diet']\n",
    "print(f\"Penguin Diet: {penguin_diet}\")\n",
    "# Output: Penguin Diet: Carnivore"
   ]
  },
  {
   "cell_type": "markdown",
   "id": "201a5210-3435-4a95-8034-c06914922a11",
   "metadata": {},
   "source": [
    "---\n",
    "\n",
    "**ENJOY !!**"
   ]
  }
 ],
 "metadata": {
  "kernelspec": {
   "display_name": "Python [conda env:base] *",
   "language": "python",
   "name": "conda-base-py"
  },
  "language_info": {
   "codemirror_mode": {
    "name": "ipython",
    "version": 3
   },
   "file_extension": ".py",
   "mimetype": "text/x-python",
   "name": "python",
   "nbconvert_exporter": "python",
   "pygments_lexer": "ipython3",
   "version": "3.12.6"
  }
 },
 "nbformat": 4,
 "nbformat_minor": 5
}

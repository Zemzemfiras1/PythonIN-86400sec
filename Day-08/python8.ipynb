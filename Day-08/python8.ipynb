{
 "cells": [
  {
   "cell_type": "markdown",
   "id": "ab8b7679-3631-442f-a3cb-0c2b6c32ba12",
   "metadata": {},
   "source": [
    "# Section 11 : File Handling \n",
    "\n",
    "File handling is an essential part of programming that involves creating, reading, writing, and manipulating files. Python provides built-in functions and modules to perform file handling operations efficiently. "
   ]
  },
  {
   "cell_type": "markdown",
   "id": "d297738d-0dac-47fb-8bb7-7d47114c8036",
   "metadata": {},
   "source": [
    "## Checking File Existence\n",
    "\n",
    "Before performing file operations, it’s good practice to check if a file exists.\n"
   ]
  },
  {
   "cell_type": "markdown",
   "id": "8e4065de-5db8-4f2b-8d8f-2a0fa99ceb13",
   "metadata": {},
   "source": [
    "### Using os Module"
   ]
  },
  {
   "cell_type": "code",
   "execution_count": null,
   "id": "6c2541a3-5d1b-459c-9342-85a6346d083b",
   "metadata": {},
   "outputs": [],
   "source": [
    "import os \n",
    "\n",
    "if os.path.exists('README.md'):\n",
    "    print('File exists... ')\n",
    "else: print('File Not Found')"
   ]
  },
  {
   "cell_type": "markdown",
   "id": "35559e9a-a978-4f90-912a-d6b8c0c1aede",
   "metadata": {},
   "source": [
    "### Using os Module"
   ]
  },
  {
   "cell_type": "code",
   "execution_count": null,
   "id": "7a6490dd-3918-4667-9d77-944aafedc2b6",
   "metadata": {},
   "outputs": [],
   "source": [
    "from pathlib import Path\n",
    "\n",
    "myfile = Path('README.md')\n",
    "\n",
    "if myfile.exists(): \n",
    "    print('File exists... ')\n",
    "else: print('File Not Found')"
   ]
  },
  {
   "cell_type": "markdown",
   "id": "ab29f2f9-320d-426e-a998-55b8b6ae7b57",
   "metadata": {},
   "source": [
    "### Exception Handling"
   ]
  },
  {
   "cell_type": "code",
   "execution_count": null,
   "id": "f0671f59-ad63-4a48-8d0a-11c1d40f8e0c",
   "metadata": {},
   "outputs": [],
   "source": [
    "try:\n",
    "    with open('exercices.txt', 'r') as file:\n",
    "        print(file.read())\n",
    "except FileNotFoundError:\n",
    "    print('File not found.')\n",
    "except IOError as e:\n",
    "    print(f'An error occurred: {e}')\n"
   ]
  },
  {
   "cell_type": "markdown",
   "id": "bb40adb0-0c0c-441f-ae26-e12e704c1371",
   "metadata": {},
   "source": [
    "## Opening and Closing Files\n",
    "\n",
    "To open a  file python uses the **open()** fuction .\n",
    "\n",
    "**Syntax**\n",
    "\n",
    "```python\n",
    "file = open('filename', mode)\n",
    "```\n",
    "\n",
    "* **filename** :Name of the file to be opened.\n",
    "* **mode** : Specifies the mode in which the file is opened (e.g., read, write).\n",
    "\n",
    "    * ***Common file modes:***\n",
    "\n",
    "        - 'r' : Read (default mode). File must exist.\n",
    "\n",
    "        - 'w' : Write. Creates a new file or truncates an existing one.\n",
    "\n",
    "        - 'x' : Create. Fails if the file exists.\n",
    "\n",
    "        - 'a' : Append. Adds to the end of the file.\n",
    "\n",
    "        - 'b' : Binary mode.\n",
    "\n",
    "        - 't' : Text mode (default).\n",
    "\n",
    "        - '+' : Open for both reading and writing.\n",
    "     "
   ]
  },
  {
   "cell_type": "markdown",
   "id": "d897d8d6-de13-4d8f-9c24-088511847a32",
   "metadata": {},
   "source": [
    "**Method 1**"
   ]
  },
  {
   "cell_type": "code",
   "execution_count": null,
   "id": "da3adfb1-3943-4bfc-ada4-28f710434b4f",
   "metadata": {},
   "outputs": [],
   "source": [
    "# open file in read mode 'r'\n",
    "file = open(\"shortstory.txt\",\"r\")\n",
    "# Read file content\n",
    "file.read()"
   ]
  },
  {
   "cell_type": "markdown",
   "id": "53bb06ce-c546-42bb-a480-d1306617395b",
   "metadata": {},
   "source": [
    "---\n",
    "if we add \"file.close()\" to the above cell the file will be closed "
   ]
  },
  {
   "cell_type": "code",
   "execution_count": null,
   "id": "f521ed1c-ca88-447c-988d-a31b24bae0f7",
   "metadata": {},
   "outputs": [],
   "source": [
    "# open file in read mode 'r'\n",
    "file = open(\"shortstory.txt\",\"r\")\n",
    "# Read file content \n",
    "file.read()\n",
    "file.close()"
   ]
  },
  {
   "cell_type": "markdown",
   "id": "9084dccb-d6d7-4545-8e9b-0c2fc56190da",
   "metadata": {},
   "source": [
    "Note that printing content file is different to read mode as we could print a file content of closed file "
   ]
  },
  {
   "cell_type": "code",
   "execution_count": null,
   "id": "7ef70545-c5cf-43fc-8d31-231bca78ef0a",
   "metadata": {},
   "outputs": [],
   "source": [
    "# open file in read mode 'r'\n",
    "file = open(\"shortstory.txt\",\"r\")\n",
    "# Read file content \n",
    "print(file.read())\n",
    "file.close()"
   ]
  },
  {
   "cell_type": "markdown",
   "id": "11347a05-36c6-4e8c-b33e-2fb8dba2f182",
   "metadata": {},
   "source": [
    "---\n",
    "**Method 2 : Using with Statement (Preferred Method)**\n",
    "\n",
    "The with statement ensures the file is closed automatically:\n"
   ]
  },
  {
   "cell_type": "code",
   "execution_count": null,
   "id": "bda29c8a-a9bd-43cf-9b9f-485c33e1a9cf",
   "metadata": {},
   "outputs": [],
   "source": [
    "with open('shortstory.txt', 'r') as file: \n",
    "    content = file.read()\n",
    "    print(content) # File is closed after this block"
   ]
  },
  {
   "cell_type": "markdown",
   "id": "3eab781f-c087-4139-bd53-dbcbb6e83be7",
   "metadata": {},
   "source": [
    "---\n",
    "## Reading Files\n",
    "\n",
    "Python provides multiple methods to read files based on requirements... "
   ]
  },
  {
   "cell_type": "markdown",
   "id": "808def43-ba22-40ce-9a10-cbc787879eb5",
   "metadata": {},
   "source": [
    "### Reading the Entire File \n",
    "Reads the entire file content as a string\n"
   ]
  },
  {
   "cell_type": "code",
   "execution_count": null,
   "id": "11443dab-f942-41a8-99af-6cbedd893f21",
   "metadata": {},
   "outputs": [],
   "source": [
    "with open('shortstory.txt', 'r') as file:\n",
    "    content = file.read()\n",
    "    print(content)\n"
   ]
  },
  {
   "cell_type": "markdown",
   "id": "210a100d-482f-48dd-979a-47c81ff201aa",
   "metadata": {},
   "source": [
    "---\n",
    "### Read Line by Line\n",
    "\n",
    "Useful for processing files line by line"
   ]
  },
  {
   "cell_type": "code",
   "execution_count": null,
   "id": "993a47be-e823-4712-8ab1-07b11a576786",
   "metadata": {},
   "outputs": [],
   "source": [
    "with open('shortstory.txt', 'r') as file:\n",
    "    for line in file:\n",
    "        print(line)  # Removes newline character \\n\n"
   ]
  },
  {
   "cell_type": "markdown",
   "id": "a319f373-920d-40ff-89ca-d17d7dff891a",
   "metadata": {},
   "source": [
    "---\n",
    "Returns all lines as a list of strings"
   ]
  },
  {
   "cell_type": "code",
   "execution_count": null,
   "id": "4e6a20eb-664c-42c1-b845-e49639bdb7e6",
   "metadata": {},
   "outputs": [],
   "source": [
    "with open('shortstory.txt', 'r') as file:\n",
    "    lines = file.readlines()\n",
    "    print(lines)\n"
   ]
  },
  {
   "cell_type": "markdown",
   "id": "ba144395-8b30-4555-aafd-eb23bc4f1d8a",
   "metadata": {},
   "source": [
    "---\n",
    "### Read Fixed Number of Characters"
   ]
  },
  {
   "cell_type": "code",
   "execution_count": null,
   "id": "f8715614-4f65-4416-8052-8c1b1fcdb52a",
   "metadata": {},
   "outputs": [],
   "source": [
    "with open('shortstory.txt', 'r') as file:\n",
    "    content = file.read(110)  # Reads the first 110 characters\n",
    "    print(content)"
   ]
  },
  {
   "cell_type": "markdown",
   "id": "872b70f9-cbcf-41e9-abbe-e95d9e7807f1",
   "metadata": {},
   "source": [
    "---\n",
    "## Writing to Files"
   ]
  },
  {
   "cell_type": "markdown",
   "id": "c01c76c1-f78c-49d7-8089-16eb31d70785",
   "metadata": {},
   "source": [
    "### Writing New Content"
   ]
  },
  {
   "cell_type": "code",
   "execution_count": null,
   "id": "d6323db7-69a9-4b2b-9a5a-8f6a3c1b8832",
   "metadata": {},
   "outputs": [],
   "source": [
    "# as we dont have a practiceFile.txt in our directory \n",
    "# 'w' will automatically create a new file \n",
    "\n",
    "with open('practiceFile.txt', 'w') as file:\n",
    "    file.write(\"this is a new line \")    "
   ]
  },
  {
   "cell_type": "code",
   "execution_count": null,
   "id": "b5921fef-0ea3-4f34-be18-36fbbe9af449",
   "metadata": {},
   "outputs": [],
   "source": [
    "with open('practiceFile.txt', 'r') as file:\n",
    "    print(file.read())"
   ]
  },
  {
   "cell_type": "markdown",
   "id": "c8172f79-a00f-4d86-a238-1d1f74a6bc17",
   "metadata": {},
   "source": [
    "---\n",
    "Write another line : \"Date: coming soon\" "
   ]
  },
  {
   "cell_type": "code",
   "execution_count": null,
   "id": "32080aa5-edbd-4c15-ae67-35b4a3b74ebe",
   "metadata": {},
   "outputs": [],
   "source": [
    "with open('practiceFile.txt', 'w') as file:\n",
    "    file.write(\"Title : Nextflow Course\")\n",
    "    "
   ]
  },
  {
   "cell_type": "code",
   "execution_count": null,
   "id": "3e0d637f-a655-4d15-b3c5-b405f2ea81fa",
   "metadata": {},
   "outputs": [],
   "source": [
    "with open('practiceFile.txt', 'r') as file:\n",
    "    print(file.read())\n",
    "    "
   ]
  },
  {
   "cell_type": "markdown",
   "id": "f749b0df-311f-435c-b564-a7e28a602e85",
   "metadata": {},
   "source": [
    "### Appending Content\n",
    "\n",
    "To avoid overwriting in your file, and append content use 'a' mode and the newline character ( \\n ) (optional)"
   ]
  },
  {
   "cell_type": "code",
   "execution_count": null,
   "id": "477ca736-feee-44fb-972c-00854fc7d379",
   "metadata": {},
   "outputs": [],
   "source": [
    "with open('practiceFile.txt', 'a') as file:\n",
    "    file.write('\\nDate: coming soon.')\n"
   ]
  },
  {
   "cell_type": "code",
   "execution_count": null,
   "id": "12ef1509-7156-4922-883d-34015b185c10",
   "metadata": {},
   "outputs": [],
   "source": [
    "with open('practiceFile.txt', 'r') as file:\n",
    "    print(file.read())\n",
    "    "
   ]
  },
  {
   "cell_type": "markdown",
   "id": "8e9780a4-a062-41c7-9b84-63953d230aee",
   "metadata": {},
   "source": [
    "### Writing Multiple Lines"
   ]
  },
  {
   "cell_type": "code",
   "execution_count": null,
   "id": "201c1884-e91e-4c18-bdee-d1ba35dad8ba",
   "metadata": {},
   "outputs": [],
   "source": [
    "lines = ['\\nFiras Zemzem ', '\\nzemzemfiras@gmail.com \\n']\n",
    "with open('practiceFile.txt', 'a') as file:\n",
    "    file.writelines(lines)  # Writes a list of strings\n"
   ]
  },
  {
   "cell_type": "code",
   "execution_count": null,
   "id": "5ea72889-3680-4807-a4d9-2f68f4891c0d",
   "metadata": {},
   "outputs": [],
   "source": [
    "with open('practiceFile.txt', 'r') as file:\n",
    "    print(file.read())\n",
    "    "
   ]
  },
  {
   "cell_type": "markdown",
   "id": "ae81ee00-3c36-409b-9358-1e59c281faac",
   "metadata": {},
   "source": [
    "## File Positioning\n",
    "\n",
    "Python provides methods to manipulate the file pointer during reading or writing\n"
   ]
  },
  {
   "cell_type": "markdown",
   "id": "29ccbc44-f57f-4846-80c7-caf44fc8a8c7",
   "metadata": {},
   "source": [
    "**file.seek()** : Moves the file pointer!\n",
    "\n",
    "    - 0 (default): Start of the file.\n",
    "\n",
    "    - 1: Current position.\n",
    "    \n",
    "    - 2: End of the file."
   ]
  },
  {
   "cell_type": "code",
   "execution_count": null,
   "id": "ebf1e187-84c3-4984-a454-91a32015b708",
   "metadata": {},
   "outputs": [],
   "source": [
    "# Corrected code\n",
    "with open('practiceFile.txt', 'a+') as file: # Allows both writing(appending) and reading\n",
    "    file.write(\"Tunisia\")\n",
    "    file.seek(0)  # Move pointer to the start of the file\n",
    "    print(file.read())  # Read the content to verify\n"
   ]
  },
  {
   "cell_type": "markdown",
   "id": "bb31ea0f-61de-4a18-bf98-917dfca5e8e9",
   "metadata": {},
   "source": [
    "### File Copying\n",
    "\n",
    "Copy the contents of one file to another"
   ]
  },
  {
   "cell_type": "code",
   "execution_count": null,
   "id": "1fbdb1f1-24dc-48d9-9a17-68cfa6d3bb22",
   "metadata": {},
   "outputs": [],
   "source": [
    "with open('practiceFile.txt', 'r') as src, open('ContactINFO.txt', 'w') as dest:\n",
    "    dest.write(src.read())\n"
   ]
  },
  {
   "cell_type": "markdown",
   "id": "6e31e4d3-3e65-4749-9248-934b3f1f9b79",
   "metadata": {
    "jp-MarkdownHeadingCollapsed": true
   },
   "source": [
    "## CSV File Handling"
   ]
  },
  {
   "cell_type": "markdown",
   "id": "add13b1c-8c50-43b3-a375-5351bb51b95d",
   "metadata": {},
   "source": [
    "## Loading the Dataset"
   ]
  },
  {
   "cell_type": "markdown",
   "id": "be124152-5edb-4968-adc0-370cb432579d",
   "metadata": {},
   "source": [
    "### Using csv.reader \n",
    "\n",
    "when you want to iterate over rows as lists."
   ]
  },
  {
   "cell_type": "code",
   "execution_count": null,
   "id": "98b4e62e-6024-43a5-b28f-e6e3828153a4",
   "metadata": {},
   "outputs": [],
   "source": [
    "import csv\n",
    "\n",
    "with open('employee_records.csv', 'r') as file:\n",
    "    reader = csv.reader(file)\n",
    "    for row in reader:\n",
    "        print(row)\n"
   ]
  },
  {
   "cell_type": "markdown",
   "id": "52cd0691-a312-4dc8-aec7-5d0f602e7e43",
   "metadata": {},
   "source": [
    "###  Using csv.DictReader\n",
    "\n",
    "**csv.DictReader** reads the file into dictionaries where the keys are the column headers."
   ]
  },
  {
   "cell_type": "code",
   "execution_count": null,
   "id": "94630a28-5dee-44a3-b25f-a66957e5a16f",
   "metadata": {},
   "outputs": [],
   "source": [
    "import csv\n",
    "\n",
    "with open('employee_records.csv', 'r') as file:\n",
    "    reader = csv.DictReader(file)\n",
    "    for row in reader:\n",
    "        print(row)\n"
   ]
  },
  {
   "cell_type": "markdown",
   "id": "921cf9ed-d246-4139-a348-debf2ef1ece7",
   "metadata": {},
   "source": [
    "---\n",
    "**csv.DictReader** is particularly useful if you want to access specific fields by their names."
   ]
  },
  {
   "cell_type": "code",
   "execution_count": null,
   "id": "25da04eb-3974-4458-a1d1-9a46b092fc1c",
   "metadata": {},
   "outputs": [],
   "source": [
    "with open('employee_records.csv', 'r') as file:\n",
    "    reader = csv.DictReader(file)\n",
    "    for row in reader:\n",
    "        print(f\"Name: {row['Name']}, \\t Department: {row['Department']}, \\t Salary : {row['Salary']}\")"
   ]
  },
  {
   "cell_type": "markdown",
   "id": "d25f0ce9-61a5-4178-8303-5ca74c34e6b1",
   "metadata": {},
   "source": [
    "## Add lines "
   ]
  },
  {
   "cell_type": "code",
   "execution_count": null,
   "id": "6945cb2e-5141-48c1-a233-29707d185492",
   "metadata": {},
   "outputs": [],
   "source": [
    "import csv\n",
    "\n",
    "# Add a new row to the CSV file\n",
    "new_row = [9, 'Bob Brown', 'Engineering', 70000, '2024-01-15']\n",
    "\n",
    "# Open the file in append mode ('a') to add a new row\n",
    "with open('employee_records.csv', 'a', newline='') as file:\n",
    "    writer = csv.writer(file)\n",
    "    writer.writerow(new_row)\n",
    "\n",
    "# Read and print the content of the CSV file\n",
    "with open('employee_records.csv', 'r') as file:\n",
    "    reader = csv.reader(file)\n",
    "    for row in reader:\n",
    "        print(row)\n"
   ]
  },
  {
   "cell_type": "markdown",
   "id": "cd1827ad-a0d2-469c-b4de-3c2fffbe9827",
   "metadata": {},
   "source": [
    "## Filtering rows based on conditions"
   ]
  },
  {
   "cell_type": "code",
   "execution_count": null,
   "id": "1777610f-affa-43be-b473-714a7ba6b7cd",
   "metadata": {},
   "outputs": [],
   "source": [
    "import csv\n",
    "\n",
    "with open('employee_records.csv', 'r') as file:\n",
    "    reader = csv.DictReader(file)\n",
    "    for row in reader:\n",
    "        if row['Department'] == 'Engineering':\n",
    "            print(row)\n"
   ]
  },
  {
   "cell_type": "markdown",
   "id": "9065944c-0f8b-4f66-9db3-bebf59817932",
   "metadata": {},
   "source": [
    "## Sorting and grouping data"
   ]
  },
  {
   "cell_type": "code",
   "execution_count": null,
   "id": "20c48ca5-f352-487b-95b5-dc3ea7962a63",
   "metadata": {},
   "outputs": [],
   "source": [
    "import csv\n",
    "\n",
    "with open('employee_records.csv', 'r') as infile, open('sorted_employees.csv', 'w', newline='') as outfile:\n",
    "    reader = csv.DictReader(infile)\n",
    "    sorted_data = sorted(reader, key=lambda x: int(x['Salary']), reverse=True)\n",
    "\n",
    "    writer = csv.DictWriter(outfile, fieldnames=reader.fieldnames)\n",
    "    writer.writeheader()\n",
    "    writer.writerows(sorted_data)\n"
   ]
  },
  {
   "cell_type": "markdown",
   "id": "838a5c78-66c1-406b-b6b3-d5c1ed38205c",
   "metadata": {},
   "source": [
    "## Check for Missing Data"
   ]
  },
  {
   "cell_type": "code",
   "execution_count": null,
   "id": "4876809c-fade-4af3-9607-1ddf917359b4",
   "metadata": {},
   "outputs": [],
   "source": [
    "import csv\n",
    "\n",
    "# Open the CSV file for reading\n",
    "with open('employee_records.csv', 'r') as file:\n",
    "    reader = csv.reader(file)\n",
    "    \n",
    "    # Track if any missing data is found\n",
    "    missing_data_found = False\n",
    "\n",
    "    # Check each row for missing data\n",
    "    # Iterates through the rows in the CSV file, \n",
    "    # starting the row numbering from 1 (useful for reporting row numbers).\n",
    "\n",
    "    for row_number, row in enumerate(reader, start=1):\n",
    "       # print (row_number)\n",
    "        \n",
    "        if any(field.strip() == '' for field in row):  # Check for empty or whitespace-only fields\n",
    "           #print (row_number)\n",
    "            print(f\"Missing data found in row {row_number}: {row}\")\n",
    "            missing_data_found = True\n",
    "\n",
    "    if not missing_data_found:\n",
    "        print(\"No missing data found in the CSV file.\")\n"
   ]
  },
  {
   "cell_type": "markdown",
   "id": "8ec438e3-2182-4335-a85a-84f89c1092ee",
   "metadata": {},
   "source": [
    "---\n"
   ]
  },
  {
   "cell_type": "markdown",
   "id": "5f3b336c-76e7-442f-b9e0-df41ee791ef0",
   "metadata": {},
   "source": [
    "## ENJOY !!"
   ]
  }
 ],
 "metadata": {
  "kernelspec": {
   "display_name": "Python [conda env:base] *",
   "language": "python",
   "name": "conda-base-py"
  },
  "language_info": {
   "codemirror_mode": {
    "name": "ipython",
    "version": 3
   },
   "file_extension": ".py",
   "mimetype": "text/x-python",
   "name": "python",
   "nbconvert_exporter": "python",
   "pygments_lexer": "ipython3",
   "version": "3.12.6"
  }
 },
 "nbformat": 4,
 "nbformat_minor": 5
}

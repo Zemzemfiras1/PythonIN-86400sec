{
 "cells": [
  {
   "cell_type": "markdown",
   "id": "c55247e8-8162-4045-b031-3caef50132a1",
   "metadata": {},
   "source": [
    "# Section 8 : Functions "
   ]
  },
  {
   "cell_type": "markdown",
   "id": "3f43bc58-4b02-490f-ae10-599b5aa20f0a",
   "metadata": {},
   "source": [
    "A function is a block of reusable code that performs a specific task. Functions allow us to break down complex problems into smaller, more manageable parts. Python provides a simple way to define and use functions.\n",
    "\n",
    "```python\n",
    "In this lesson, we will cover:\n",
    "\n",
    "- Defining a function\n",
    "- Function parameters\n",
    "- Return values\n",
    "- Function scope\n",
    "- Lambda functions\n",
    "- Recursive functions\n",
    "```"
   ]
  },
  {
   "cell_type": "markdown",
   "id": "57216dd1-507c-4d35-b443-e533556002c1",
   "metadata": {},
   "source": [
    "## Defining a Function \n",
    "\n",
    "To define a function in Python, we use the def keyword followed by the function name, parentheses (), and a colon :. After the colon, we write the code block that should execute when the function is called.\n",
    "\n",
    "**Syntax:** \n",
    "\n",
    "```python \n",
    "def function_name():\n",
    "    # Code to be executed\n",
    "    print(\"Hello, this is a function!\")\n",
    "```\n"
   ]
  },
  {
   "cell_type": "markdown",
   "id": "966b44dd-e4f4-4969-9cc8-23e5b6e3dab8",
   "metadata": {},
   "source": [
    "**Example**"
   ]
  },
  {
   "cell_type": "code",
   "execution_count": null,
   "id": "b4058404-9da6-47d5-a67d-80b45339e3ed",
   "metadata": {},
   "outputs": [],
   "source": [
    "# Make a fuction that prints \"Hello Learners\" \n",
    "\n",
    "def Greeting(): \n",
    "    print(\"Hello Learners\")\n",
    "\n"
   ]
  },
  {
   "cell_type": "code",
   "execution_count": null,
   "id": "d4d85721-a72e-4768-9f23-0e1fc312b802",
   "metadata": {},
   "outputs": [],
   "source": [
    "# Call Greeting() function\n",
    "Greeting()"
   ]
  },
  {
   "cell_type": "markdown",
   "id": "2ee153e4-621e-4796-863d-8a3382176087",
   "metadata": {},
   "source": [
    "## Functions Parameters \n",
    "Functions can accept inputs, known as **parameters**. These parameters are specified within the parentheses of the function definition.\n",
    "\n",
    "**Syntax:**\n",
    "```python\n",
    "def function_name(parameter1, parameter2):\n",
    "    # Code that uses the parameters\n",
    "    print(f\"Hello {parameter1}, you are {parameter2} years old.\")\n",
    "```"
   ]
  },
  {
   "cell_type": "markdown",
   "id": "e9753990-799d-466c-bc13-2c930689ae2e",
   "metadata": {},
   "source": [
    "**Example**"
   ]
  },
  {
   "cell_type": "code",
   "execution_count": null,
   "id": "ef761bf2-8f14-4925-b7a3-470f57c8bf71",
   "metadata": {},
   "outputs": [],
   "source": [
    "# function name : introduce \n",
    "# Parameter  1  : name \n",
    "# Parameter  2  : age\n",
    "def introduce(name, age):\n",
    "    print(f\"Hello {name}, you are {age} years old.\")\n"
   ]
  },
  {
   "cell_type": "code",
   "execution_count": null,
   "id": "6395e2d5-8bec-471f-82e5-8e71c891a96a",
   "metadata": {},
   "outputs": [],
   "source": [
    "# Calling the function with arguments alice for name / 25 for age\n",
    "introduce(\"Alice\", 25)  \n"
   ]
  },
  {
   "cell_type": "markdown",
   "id": "b5c2e05c-d963-4e1c-af3b-b773c0a05ccc",
   "metadata": {},
   "source": [
    "## Return Values \n",
    "A function can return a value using the return keyword. This value can then be used elsewhere in the program.\n",
    "\n",
    "**Syntax:**\n",
    "```python\n",
    "def function_name():\n",
    "    return value\n",
    "```"
   ]
  },
  {
   "cell_type": "markdown",
   "id": "88d1106b-6060-4fef-9767-a0987a9218b0",
   "metadata": {},
   "source": [
    "**Example**"
   ]
  },
  {
   "cell_type": "code",
   "execution_count": null,
   "id": "263795ff-196e-4655-8d76-08e7692c139f",
   "metadata": {},
   "outputs": [],
   "source": [
    "def add_numbers(a, b):\n",
    "    return a + b\n",
    "\n",
    "result = add_numbers(10, 5)\n",
    "print(f\"The sum is: {result}\")"
   ]
  },
  {
   "cell_type": "markdown",
   "id": "22d9207b-d03c-4933-8566-6ceb121bff1d",
   "metadata": {},
   "source": [
    "## Local Scope \n",
    "Variables created inside a function are local to that function and cannot be accessed outside of it. This is called local scope. Variables defined outside the function are considered global variables and can be accessed anywhere in the program."
   ]
  },
  {
   "cell_type": "markdown",
   "id": "057f9d14-967d-48f0-a1b2-b0ca2b7bf36b",
   "metadata": {},
   "source": [
    "**Example**"
   ]
  },
  {
   "cell_type": "code",
   "execution_count": null,
   "id": "cb9257de-f07e-45eb-a5c8-ac5aae89682b",
   "metadata": {},
   "outputs": [],
   "source": [
    "def show_local_scope():\n",
    "    local_variable = \"I am local\"\n",
    "    print(local_variable)\n",
    "\n",
    "show_local_scope()\n",
    "\n",
    "# Uncommenting the next line will cause an error\n",
    "# print(local_variable)  # This will give an error because local_variable is not accessible outside the function\n"
   ]
  },
  {
   "cell_type": "markdown",
   "id": "5bc29fb8-ba86-450b-b46b-a001d11a7629",
   "metadata": {},
   "source": [
    "lets try to print local variable outside "
   ]
  },
  {
   "cell_type": "code",
   "execution_count": null,
   "id": "d9fdde5e-d357-4917-8972-9f9b2e47a0ea",
   "metadata": {},
   "outputs": [],
   "source": [
    "def show_local_scope():\n",
    "    local_variable = \"I am local\"\n",
    "\n",
    "\n",
    "\n",
    "show_local_scope()\n",
    "\n",
    "# Uncommenting the next line will cause an error\n",
    "# print(local_variable)  # This will give an error because local_variable is not accessible outside the function\n"
   ]
  },
  {
   "cell_type": "markdown",
   "id": "360e8bcf-8821-459e-96d1-ef52de10ffe1",
   "metadata": {},
   "source": [
    "lets make a global variable : global_variable then implement it in our function\n"
   ]
  },
  {
   "cell_type": "code",
   "execution_count": null,
   "id": "6565e900-0016-43f3-8239-9e828a4c37e8",
   "metadata": {},
   "outputs": [],
   "source": [
    "global_variable  = \"I am global\"\n",
    "\n",
    "\n",
    "def show_local_scope():\n",
    "    print(global_variable)\n",
    "\n",
    "\n",
    "show_local_scope()\n"
   ]
  },
  {
   "cell_type": "markdown",
   "id": "27ef6c49-b714-4c55-be50-fc683c1f6062",
   "metadata": {},
   "source": [
    "##  Default Parameters\n",
    "You can assign default values to parameters in a function. This way, if no argument is passed when calling the function, the default value will be used.\n",
    "\n",
    "**Syntax:**\n",
    "```python\n",
    "def function_name(parameter1=default_value):\n",
    "    # Code using the parameter\n",
    "    print(parameter1)\n",
    "```"
   ]
  },
  {
   "cell_type": "markdown",
   "id": "fdd19e8b-b13f-4482-a9be-6a48685effd4",
   "metadata": {},
   "source": [
    "**Example:**"
   ]
  },
  {
   "cell_type": "code",
   "execution_count": null,
   "id": "7baa54e9-85ee-4c38-84a2-12c6f373ad39",
   "metadata": {},
   "outputs": [],
   "source": [
    "def greet(name=\"Guest\"):\n",
    "    print(f\"Hello, {name}!\")\n",
    "\n",
    "greet(\"Alice\")  \n",
    "greet()         "
   ]
  },
  {
   "cell_type": "markdown",
   "id": "ef9f763e-a561-41a0-af5f-e9e5990faaaa",
   "metadata": {},
   "source": [
    "## Lambda Functions\n",
    "A lambda function is a small anonymous function defined using the lambda keyword. These functions are typically used for short, one-off operations.\n",
    "\n",
    "**Syntax:**\n",
    "```python\n",
    "lambda arguments: expression\n",
    "```"
   ]
  },
  {
   "cell_type": "code",
   "execution_count": null,
   "id": "343b04a9-fc89-4333-bc59-98da11d417c5",
   "metadata": {},
   "outputs": [],
   "source": [
    "multiply = lambda x, y: x * y\n",
    "print(multiply(4, 5))  # Output: 20\n"
   ]
  },
  {
   "cell_type": "markdown",
   "id": "0f892f27-936f-4748-84ed-8c664bf6b100",
   "metadata": {},
   "source": [
    "## Recursive Functions\n",
    "A recursive function is one that calls itself in its definition. It is often used to solve problems that can be broken down into smaller, similar subproblems (e.g., calculating factorials, traversing trees).\n",
    "\n",
    "**Syntax:**\n",
    "```python\n",
    "def recursive_function():\n",
    "    # base case\n",
    "    if condition:\n",
    "        return result\n",
    "    # recursive case\n",
    "    else:\n",
    "        return recursive_function()\n",
    "```\n",
    "\n"
   ]
  },
  {
   "cell_type": "markdown",
   "id": "55babc3c-41cf-43af-9166-dc9bae55a600",
   "metadata": {},
   "source": [
    "**Example**\n"
   ]
  },
  {
   "cell_type": "code",
   "execution_count": null,
   "id": "cf378a70-6534-4eda-8a1d-6df5ca54f238",
   "metadata": {},
   "outputs": [],
   "source": [
    "def factorial(n):\n",
    "    # Base case: factorial of 0 or 1 is 1\n",
    "    if n == 0 or n == 1:\n",
    "        return 1\n",
    "    # Recursive case\n",
    "    else:\n",
    "        return n * factorial(n - 1)\n",
    "\n",
    "print(factorial(5))  \n"
   ]
  },
  {
   "cell_type": "markdown",
   "id": "5bda9ef3-54be-4e87-9020-f7a437bf4eaf",
   "metadata": {},
   "source": [
    "## Functions as Arguments\n",
    "You can pass functions as arguments to other functions. This allows for greater flexibility and allows for higher-order functions.\n"
   ]
  },
  {
   "cell_type": "markdown",
   "id": "981542ff-89a0-4ae7-8a62-19d02116ce49",
   "metadata": {},
   "source": [
    "**Example:**"
   ]
  },
  {
   "cell_type": "code",
   "execution_count": null,
   "id": "e910709b-7532-4f8d-bd57-4df21c3df2c5",
   "metadata": {},
   "outputs": [],
   "source": [
    "def apply_function(f, x):\n",
    "    return f(x)\n",
    "\n",
    "def square(n):\n",
    "    return n * n\n",
    "\n",
    "result = apply_function(square, 5)\n",
    "print(result)  # Output: 25"
   ]
  },
  {
   "cell_type": "markdown",
   "id": "098035b6-4c48-4f1c-a648-ce51f70c3372",
   "metadata": {},
   "source": [
    "## Appling Functions in Bioinformatics"
   ]
  },
  {
   "cell_type": "markdown",
   "id": "cd9f2887-dba4-4ebf-b17b-287452611f48",
   "metadata": {},
   "source": [
    "**Example: Calculating GC Content**\n",
    "\n",
    "This function calculates the GC content of a DNA sequence.\n",
    "\n",
    "- GC content is the percentage of G and C bases in the sequence.\n",
    "    \n",
    "- Args:\n",
    "\n",
    "    - sequence (str): A string representing the DNA sequence (e.g., 'ATGCGT').\n",
    "    \n",
    "    - Returns:\n",
    "      float: The GC content as a percentage.\n"
   ]
  },
  {
   "cell_type": "code",
   "execution_count": null,
   "id": "27736965-560b-4c90-a86f-764729c4c337",
   "metadata": {},
   "outputs": [],
   "source": [
    "def gc_content(sequence):\n",
    "    \n",
    "    gc_count = sequence.count('G') + sequence.count('C')\n",
    "    return (gc_count / len(sequence)) * 100\n",
    "\n",
    "sequence = \"ATGCGTACG\"\n",
    "gc_percentage = gc_content(sequence)\n",
    "print(f\"GC content: {gc_percentage:.2f}%\")\n"
   ]
  },
  {
   "cell_type": "markdown",
   "id": "2cbb8895-26a3-4b56-bbdd-d9c71c27811a",
   "metadata": {},
   "source": [
    "**Example: Counting Nucleotides in a DNA Sequence**\n",
    "\n",
    "This function counts the occurrences of each nucleotide in a DNA sequence.\n",
    "    \n",
    "- Args:\n",
    "\n",
    "  - sequence (str): A string representing the DNA sequence (e.g., 'ATGCGT').\n",
    "    \n",
    "  - Returns:\n",
    "    dict: A dictionary with counts for 'A', 'T', 'C', and 'G'."
   ]
  },
  {
   "cell_type": "code",
   "execution_count": null,
   "id": "35e58e53-fdcc-4b6e-af57-899a35978814",
   "metadata": {},
   "outputs": [],
   "source": [
    "def count_nucleotides(sequence):\n",
    "    return {'A': sequence.count('A'),\n",
    "            'T': sequence.count('T'),\n",
    "            'C': sequence.count('C'),\n",
    "            'G': sequence.count('G')}\n",
    "\n",
    "sequence = \"ATGCGTACG\"\n",
    "nucleotide_counts = count_nucleotides(sequence)\n",
    "print(f\"Nucleotide counts: {nucleotide_counts}\")\n"
   ]
  },
  {
   "cell_type": "markdown",
   "id": "97d2d6af-ccfc-4156-83a9-3e1e8e1ad5c8",
   "metadata": {},
   "source": [
    "**Example: Finding a Subsequence in a DNA Sequence**\n",
    "\n",
    " This function checks if a given subsequence is found in a DNA sequence.\n",
    "    \n",
    "- Args:\n",
    "    - sequence (str): The DNA sequence to search within.\n",
    "     \n",
    "    - subsequence (str): The subsequence to search for.\n",
    "    \n",
    "- Returns: bool: True if subsequence is found, False otherwise."
   ]
  },
  {
   "cell_type": "code",
   "execution_count": null,
   "id": "57c35aa0-3297-4818-9742-3ab90d7473f8",
   "metadata": {},
   "outputs": [],
   "source": [
    "def find_subsequence(sequence, subsequence):\n",
    "    if subsequence in sequence:\n",
    "        return True\n",
    "    else:\n",
    "        return False\n",
    "\n",
    "sequence = \"ATGCGTACG\"\n",
    "subsequence = \"CGT\"\n",
    "found = find_subsequence(sequence, subsequence)\n",
    "print(f\"Subsequence found: {found}\")\n"
   ]
  },
  {
   "cell_type": "markdown",
   "id": "c17bbda5-96b9-4b0b-998e-60f573360b5a",
   "metadata": {},
   "source": [
    "**Example: Translating DNA to Protein**\n",
    "This function translates a DNA sequence into a protein sequence.\n",
    "    It translates each codon (3 nucleotides) into an amino acid.\n",
    "    \n",
    "- Args:\n",
    "\n",
    "  - dna_sequence (str): The DNA sequence to translate.\n",
    "    \n",
    "  - Returns: str: The corresponding protein sequence."
   ]
  },
  {
   "cell_type": "code",
   "execution_count": null,
   "id": "0229c8f8-48ad-4390-b0b9-3540aea7f2f0",
   "metadata": {},
   "outputs": [],
   "source": [
    "def translate_dna_to_protein(dna_sequence):\n",
    "    codon_table = {\n",
    "        \"ATA\": \"I\", \"ATC\": \"I\", \"ATT\": \"I\", \"ATG\": \"M\",\n",
    "        \"ACA\": \"T\", \"ACC\": \"T\", \"ACG\": \"T\", \"ACT\": \"T\",\n",
    "        \"AAC\": \"N\", \"AAT\": \"N\", \"AAA\": \"K\", \"AAG\": \"K\",\n",
    "        \"AGC\": \"S\", \"AGT\": \"S\", \"AGA\": \"R\", \"AGG\": \"R\",\n",
    "        \"CTA\": \"L\", \"CTC\": \"L\", \"CTG\": \"L\", \"CTT\": \"L\",\n",
    "        \"CCA\": \"P\", \"CCC\": \"P\", \"CCG\": \"P\", \"CCT\": \"P\",\n",
    "        \"CAC\": \"H\", \"CAT\": \"H\", \"CAA\": \"Q\", \"CAG\": \"Q\",\n",
    "        \"CGA\": \"R\", \"CGC\": \"R\", \"CGG\": \"R\", \"CGT\": \"R\",\n",
    "        \"GTA\": \"V\", \"GTC\": \"V\", \"GTG\": \"V\", \"GTT\": \"V\",\n",
    "        \"GCA\": \"A\", \"GCC\": \"A\", \"GCG\": \"A\", \"GCT\": \"A\",\n",
    "        \"GAC\": \"D\", \"GAT\": \"D\", \"GAA\": \"E\", \"GAG\": \"E\",\n",
    "        \"GGA\": \"G\", \"GGC\": \"G\", \"GGG\": \"G\", \"GGT\": \"G\",\n",
    "        \"TCA\": \"S\", \"TCC\": \"S\", \"TCG\": \"S\", \"TCT\": \"S\",\n",
    "        \"TTC\": \"F\", \"TTT\": \"F\", \"TTA\": \"L\", \"TTG\": \"L\",\n",
    "        \"TAC\": \"Y\", \"TAT\": \"Y\", \"TAA\": \"*\", \"TAG\": \"*\",\n",
    "        \"TGC\": \"C\", \"TGT\": \"C\", \"TGA\": \"*\", \"TGG\": \"W\",\n",
    "        \"CTA\": \"L\", \"CTC\": \"L\", \"CTG\": \"L\", \"CTT\": \"L\",\n",
    "    }\n",
    "    \n",
    "    protein = \"\"\n",
    "    # Iterate over the sequence in steps of 3 nucleotides (codons)\n",
    "    for i in range(0, len(dna_sequence), 3):\n",
    "        codon = dna_sequence[i:i+3]\n",
    "        if codon in codon_table:\n",
    "            protein += codon_table[codon]\n",
    "    \n",
    "    return protein\n",
    "\n",
    "dna_sequence = \"ATGGCCAAGGTTTAA\"\n",
    "protein_sequence = translate_dna_to_protein(dna_sequence)\n",
    "print(f\"Protein sequence: {protein_sequence}\")\n"
   ]
  },
  {
   "cell_type": "markdown",
   "id": "d366c290-0a3b-474a-8810-f00ca695fa81",
   "metadata": {},
   "source": [
    "---\n",
    "## ENJOY !!"
   ]
  }
 ],
 "metadata": {
  "kernelspec": {
   "display_name": "Python [conda env:base] *",
   "language": "python",
   "name": "conda-base-py"
  },
  "language_info": {
   "codemirror_mode": {
    "name": "ipython",
    "version": 3
   },
   "file_extension": ".py",
   "mimetype": "text/x-python",
   "name": "python",
   "nbconvert_exporter": "python",
   "pygments_lexer": "ipython3",
   "version": "3.12.6"
  }
 },
 "nbformat": 4,
 "nbformat_minor": 5
}
